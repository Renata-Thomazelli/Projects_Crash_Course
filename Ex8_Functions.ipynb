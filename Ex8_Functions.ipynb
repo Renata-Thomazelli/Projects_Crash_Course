{
 "cells": [
  {
   "cell_type": "markdown",
   "metadata": {},
   "source": [
    "## Here you'll see:\n",
    "\n",
    "#### * How to write functions with arguments\n",
    "#### * How to use positional and key words arguments\n",
    "#### * How to accept the arbitrary numbers of arguments\n",
    "\n",
    "## In the exercises you also can see:\n",
    "\n",
    "#### * How to use function with:\n",
    ">>>> __`list`__  \n",
    ">>>> __`dicitionaries`__ ,   \n",
    ">>>> __`if`__ statements,   \n",
    ">>>> __`while loops`__  "
   ]
  },
  {
   "cell_type": "code",
   "execution_count": 2,
   "metadata": {},
   "outputs": [
    {
     "name": "stdout",
     "output_type": "stream",
     "text": [
      "Hello!\n"
     ]
    }
   ],
   "source": [
    "def greet_user():\n",
    "    \"\"\"Display a simple greeting.\"\"\"\n",
    "    print(\"Hello!\")\n",
    "    \n",
    "greet_user()"
   ]
  },
  {
   "cell_type": "code",
   "execution_count": 3,
   "metadata": {},
   "outputs": [
    {
     "name": "stdout",
     "output_type": "stream",
     "text": [
      "Hello, Jesse!\n"
     ]
    }
   ],
   "source": [
    "def greet_user(username):\n",
    "    \"\"\"Display a simple greeting.\"\"\"\n",
    "    print(f\"Hello, {username.title()}!\")\n",
    "    \n",
    "greet_user(\"jesse\")"
   ]
  },
  {
   "cell_type": "code",
   "execution_count": 4,
   "metadata": {},
   "outputs": [
    {
     "name": "stdout",
     "output_type": "stream",
     "text": [
      "In ths chapter I'm learning about parameter and arguments working in a function\n"
     ]
    }
   ],
   "source": [
    "def called_message():\n",
    "    \"\"\"Chapter 8\"\"\"\n",
    "    print(\"In ths chapter I'm learning about parameter and arguments working in a function\")\n",
    "called_message()"
   ]
  },
  {
   "cell_type": "code",
   "execution_count": 7,
   "metadata": {},
   "outputs": [
    {
     "name": "stdout",
     "output_type": "stream",
     "text": [
      "My favority book is Narnia.\n"
     ]
    }
   ],
   "source": [
    "def favorite_book(bookstitle):\n",
    "    \"\"\"Here you can find out my favorite book\"\"\"\n",
    "    print(f\"My favority book is {bookstitle.title()}.\")\n",
    "\n",
    "favorite_book(\"Narnia\")\n",
    "\n"
   ]
  },
  {
   "cell_type": "code",
   "execution_count": 9,
   "metadata": {},
   "outputs": [
    {
     "name": "stdout",
     "output_type": "stream",
     "text": [
      "\n",
      "I have a cat.\n",
      "My cat's name is Melany.\n"
     ]
    }
   ],
   "source": [
    "def describe_pet(animal_type,pet_name):\n",
    "    \"\"\"Display information about a pet.\"\"\"\n",
    "    print(f\"\\nI have a {animal_type}.\")\n",
    "    print(f\"My {animal_type}'s name is {pet_name.title()}.\")\n",
    "describe_pet(\"cat\",\"Melany\")"
   ]
  },
  {
   "cell_type": "code",
   "execution_count": 10,
   "metadata": {},
   "outputs": [
    {
     "name": "stdout",
     "output_type": "stream",
     "text": [
      "\n",
      "I have a cat.\n",
      "My cat's name is Melany.\n",
      "\n",
      "I have a dog.\n",
      "My dog's name is Pink.\n"
     ]
    }
   ],
   "source": [
    "def describe_pet(animal_type,pet_name):\n",
    "    \"\"\"Display information about a pet.\"\"\"\n",
    "    print(f\"\\nI have a {animal_type}.\")\n",
    "    print(f\"My {animal_type}'s name is {pet_name.title()}.\")\n",
    "describe_pet(\"cat\",\"Melany\")\n",
    "describe_pet(\"dog\",'pink')"
   ]
  },
  {
   "cell_type": "code",
   "execution_count": 11,
   "metadata": {},
   "outputs": [
    {
     "name": "stdout",
     "output_type": "stream",
     "text": [
      "\n",
      "I have a cat.\n",
      "My cat's name is Melani.\n"
     ]
    }
   ],
   "source": [
    "def describe_pet(animal_type,pet_name):\n",
    "    \"\"\"Display information about a pet.\"\"\"\n",
    "    print(f\"\\nI have a {animal_type}.\")\n",
    "    print(f\"My {animal_type}'s name is {pet_name.title()}.\")\n",
    "\n",
    "describe_pet(pet_name=\"melani\",animal_type=\"cat\")"
   ]
  },
  {
   "cell_type": "code",
   "execution_count": null,
   "metadata": {},
   "outputs": [],
   "source": []
  },
  {
   "cell_type": "code",
   "execution_count": 13,
   "metadata": {},
   "outputs": [
    {
     "ename": "SyntaxError",
     "evalue": "non-default argument follows default argument (<ipython-input-13-123ccf9866ab>, line 1)",
     "output_type": "error",
     "traceback": [
      "\u001b[1;36m  File \u001b[1;32m\"<ipython-input-13-123ccf9866ab>\"\u001b[1;36m, line \u001b[1;32m1\u001b[0m\n\u001b[1;33m    def describe_pet(animal_type='dog',pet_name):\u001b[0m\n\u001b[1;37m                    ^\u001b[0m\n\u001b[1;31mSyntaxError\u001b[0m\u001b[1;31m:\u001b[0m non-default argument follows default argument\n"
     ]
    }
   ],
   "source": [
    "def describe_pet(animal_type='dog',pet_name):\n",
    "    \"\"\"Display information about a pet.\"\"\"\n",
    "    print(f\"\\nI have a {animal_type}.\")\n",
    "    print(f\"My {animal_type}'s name is {pet_name.title()}.\")\n",
    "describe_pet(\"cat\",\"Melany\")\n",
    "describe_pet(pet_name='pink')"
   ]
  },
  {
   "cell_type": "code",
   "execution_count": 14,
   "metadata": {},
   "outputs": [
    {
     "name": "stdout",
     "output_type": "stream",
     "text": [
      "\n",
      "I have a dog.\n",
      "My dog's name is Pink.\n"
     ]
    }
   ],
   "source": [
    "def describe_pet(pet_name,animal_type='dog'):\n",
    "    \"\"\"Display information about a pet.\"\"\"\n",
    "    print(f\"\\nI have a {animal_type}.\")\n",
    "    print(f\"My {animal_type}'s name is {pet_name.title()}.\")\n",
    "\n",
    "describe_pet(pet_name='pink')"
   ]
  },
  {
   "cell_type": "code",
   "execution_count": 16,
   "metadata": {},
   "outputs": [
    {
     "name": "stdout",
     "output_type": "stream",
     "text": [
      "\n",
      "I have a dog.\n",
      "My dog's name is Pink.\n"
     ]
    }
   ],
   "source": [
    "describe_pet(\"pink\")"
   ]
  },
  {
   "cell_type": "code",
   "execution_count": 17,
   "metadata": {},
   "outputs": [
    {
     "name": "stdout",
     "output_type": "stream",
     "text": [
      "\n",
      "I have a hamster.\n",
      "My hamster's name is Harry.\n"
     ]
    }
   ],
   "source": [
    "describe_pet(animal_type=\"hamster\",pet_name='harry')"
   ]
  },
  {
   "cell_type": "code",
   "execution_count": 18,
   "metadata": {},
   "outputs": [
    {
     "name": "stdout",
     "output_type": "stream",
     "text": [
      "\n",
      "I have a dog.\n",
      "My dog's name is Willie.\n",
      "\n",
      "I have a dog.\n",
      "My dog's name is Willie.\n",
      "\n",
      "I have a hamister.\n",
      "My hamister's name is Harry.\n",
      "\n",
      "I have a hamster.\n",
      "My hamster's name is Harry.\n",
      "\n",
      "I have a hamster.\n",
      "My hamster's name is Harry.\n"
     ]
    }
   ],
   "source": [
    "# A Dog named Willie.\n",
    "describe_pet(\"willie\")\n",
    "describe_pet(pet_name=\"willie\")\n",
    "\n",
    "# A Hamster named Harry\n",
    "describe_pet('harry','hamister')\n",
    "describe_pet(pet_name=\"harry\", animal_type=\"hamster\")\n",
    "describe_pet(animal_type=\"hamster\", pet_name='harry')"
   ]
  },
  {
   "cell_type": "markdown",
   "metadata": {},
   "source": [
    "__8-3. T-Shirt:__ Write a function called make_shirt() that accepts a size and the  \n",
    "text of a message that should be printed on the shirt. The function should print  \n",
    "a sentence summarizing the size of the shirt and the message printed on it.  \n",
    "Call the function once using positional arguments to make a shirt. Call the  \n",
    "function a second time using keyword arguments.  "
   ]
  },
  {
   "cell_type": "code",
   "execution_count": 21,
   "metadata": {},
   "outputs": [
    {
     "name": "stdout",
     "output_type": "stream",
     "text": [
      "The shirt's size is 55.\n"
     ]
    }
   ],
   "source": [
    "def make_shirt(size):\n",
    "    print(f\"The shirt's size is {size}.\")\n",
    "    \n",
    "make_shirt(55)\n"
   ]
  },
  {
   "cell_type": "markdown",
   "metadata": {},
   "source": [
    "__8-4. Large Shirts:__ Modify the make_shirt() function so that shirts are large  \n",
    "by default with a message that reads I love Python. Make a large shirt and a  \n",
    "medium shirt with the default message, and a shirt of any size with a different  \n",
    "message.  "
   ]
  },
  {
   "cell_type": "code",
   "execution_count": 7,
   "metadata": {},
   "outputs": [
    {
     "name": "stdout",
     "output_type": "stream",
     "text": [
      "Wow! The shirt's size is 55.\n"
     ]
    }
   ],
   "source": [
    "def make_shirt(text,size):\n",
    "    print(f\"{text}! The shirt's size is {size}.\")\n",
    "    \n",
    "make_shirt(\"Wow\",55)"
   ]
  },
  {
   "cell_type": "code",
   "execution_count": 8,
   "metadata": {},
   "outputs": [
    {
     "name": "stdout",
     "output_type": "stream",
     "text": [
      "Wow! The shirt's size is 55.\n"
     ]
    }
   ],
   "source": [
    "def make_shirt(text,size=55):\n",
    "    print(f\"{text}! The shirt's size is {size}.\")\n",
    "    \n",
    "make_shirt(\"Wow\")"
   ]
  },
  {
   "cell_type": "markdown",
   "metadata": {},
   "source": [
    "__8-5. Cities:__ Write a function called describe_city() that accepts the name of  \n",
    "a city and its country. The function should print a simple sentence, such as  \n",
    "Reykjavik is in Iceland. Give the parameter for the country a default value.  \n",
    "Call your function for three different cities, at least one of which is not in the  \n",
    "default country.  "
   ]
  },
  {
   "cell_type": "code",
   "execution_count": 3,
   "metadata": {},
   "outputs": [
    {
     "name": "stdout",
     "output_type": "stream",
     "text": [
      "Sao Paulo is in Brazil.\n"
     ]
    }
   ],
   "source": [
    "def describe_city(city_name,city_country=\"brazil\"):\n",
    "    print(f\"{city_name.title()} is in {city_country.title()}.\")\n",
    "          \n",
    "describe_city(\"sao paulo\")\n"
   ]
  },
  {
   "cell_type": "code",
   "execution_count": 4,
   "metadata": {},
   "outputs": [
    {
     "name": "stdout",
     "output_type": "stream",
     "text": [
      "Sao Paulo is in BRAZIL.\n"
     ]
    }
   ],
   "source": [
    "def describe_city(city_name,city_country=\"brazil\"):\n",
    "    print(f\"{city_name.title()} is in {city_country.upper()}.\")\n",
    "          \n",
    "describe_city(\"sao paulo\")\n"
   ]
  },
  {
   "cell_type": "code",
   "execution_count": 5,
   "metadata": {},
   "outputs": [
    {
     "name": "stdout",
     "output_type": "stream",
     "text": [
      "Orlando is in USA.\n",
      "Barueri is in BRAZIL.\n",
      "Ohio is in USA.\n",
      "Orlando is in USA.\n"
     ]
    }
   ],
   "source": [
    "describe_city(\"orlando\",\"usa\")\n",
    "describe_city('barueri')\n",
    "describe_city(\"ohio\",'usa')\n",
    "describe_city('orlando',city_country=\"usa\")"
   ]
  },
  {
   "cell_type": "markdown",
   "metadata": {},
   "source": [
    "#### I stopped at page 137 = Return Values"
   ]
  },
  {
   "cell_type": "markdown",
   "metadata": {},
   "source": [
    "#### Returning a Simple Value"
   ]
  },
  {
   "cell_type": "code",
   "execution_count": 1,
   "metadata": {},
   "outputs": [
    {
     "name": "stdout",
     "output_type": "stream",
     "text": [
      "Jimi Hendrix\n"
     ]
    }
   ],
   "source": [
    "def get_formatted_name(first_name, last_name):\n",
    "    \"\"\"Return a full name, neatly formatted\"\"\"\n",
    "    full_name=f\"{first_name} {last_name}\"\n",
    "    return full_name.title()\n",
    "\n",
    "musician = get_formatted_name('jimi','hendrix')\n",
    "print(musician)"
   ]
  },
  {
   "cell_type": "markdown",
   "metadata": {},
   "source": [
    "#### Making an Argument Optional"
   ]
  },
  {
   "cell_type": "code",
   "execution_count": 2,
   "metadata": {},
   "outputs": [
    {
     "name": "stdout",
     "output_type": "stream",
     "text": [
      "John Lee Hooker\n"
     ]
    }
   ],
   "source": [
    "def get_formatted_name(first_name,middle_name, last_name):\n",
    "    \"\"\"Return a full name, neatly formatted\"\"\"\n",
    "    full_name=f\"{first_name} {middle_name} {last_name}\"\n",
    "    return full_name.title()\n",
    "\n",
    "musician = get_formatted_name('john','lee','hooker')\n",
    "print(musician)"
   ]
  },
  {
   "cell_type": "markdown",
   "metadata": {},
   "source": [
    "But middle names aren’t always needed, and this function as written  \n",
    "would not work if you tried to call it with only a first name and a last name.  \n",
    "To make the middle name optional, we can give the middle_name argument  \n",
    "an empty default value and ignore the argument unless the user provides a   \n",
    "value. To make get_formatted_name() work without a middle name, we set the  \n",
    "default value of middle_name to an empty string and move it to the end of the  \n",
    "list of parameters:  "
   ]
  },
  {
   "cell_type": "code",
   "execution_count": 3,
   "metadata": {},
   "outputs": [
    {
     "name": "stdout",
     "output_type": "stream",
     "text": [
      "Jimi Hendrix\n",
      "John Lee Hooker\n"
     ]
    }
   ],
   "source": [
    "def get_formatted_name(first_name, last_name, middle_name=''):\n",
    "    \"\"\"Return a full name, neatly formatted\"\"\"\n",
    "    if middle_name:\n",
    "        full_name=f\"{first_name} {middle_name} {last_name}\"\n",
    "    else:\n",
    "        full_name = f\"{first_name} {last_name}\"\n",
    "    return full_name.title()\n",
    "\n",
    "musician = get_formatted_name('jimi','hendrix')\n",
    "print(musician)\n",
    "\n",
    "musician = get_formatted_name('john','hooker','lee')\n",
    "print(musician)\n",
    "        "
   ]
  },
  {
   "cell_type": "markdown",
   "metadata": {},
   "source": [
    "#### Returning a Dictionary page 140\n"
   ]
  },
  {
   "cell_type": "code",
   "execution_count": 1,
   "metadata": {},
   "outputs": [
    {
     "name": "stdout",
     "output_type": "stream",
     "text": [
      "{'first': 'jimi', 'last': 'hendrix'}\n"
     ]
    }
   ],
   "source": [
    "def build_person(first_name,last_name):\n",
    "    \"\"\"Return a dictionary of information about a person.\"\"\"\n",
    "    person ={'first':first_name, 'last':last_name}\n",
    "    return person\n",
    "\n",
    "musician = build_person('jimi','hendrix')\n",
    "print(musician)\n"
   ]
  },
  {
   "cell_type": "code",
   "execution_count": 3,
   "metadata": {},
   "outputs": [
    {
     "name": "stdout",
     "output_type": "stream",
     "text": [
      "{'first': 'jimi', 'last': 'hendrix', 'age': 27}\n"
     ]
    }
   ],
   "source": [
    "def build_person(first_name,last_name,age=None):\n",
    "    \"\"\"Return a dictionary of information about a person.\"\"\"\n",
    "    person ={'first':first_name, 'last':last_name}\n",
    "    if age:\n",
    "        person['age'] = age\n",
    "    return person\n",
    "\n",
    "musician = build_person('jimi','hendrix',age=27)\n",
    "print(musician)\n"
   ]
  },
  {
   "cell_type": "code",
   "execution_count": 4,
   "metadata": {},
   "outputs": [
    {
     "name": "stdout",
     "output_type": "stream",
     "text": [
      "{'first': 'jimi', 'last': 'hendrix', 'age': 27}\n"
     ]
    }
   ],
   "source": [
    "def build_person(first_name,last_name,age=None):\n",
    "    \"\"\"Return a dictionary of information about a person.\"\"\"\n",
    "    person ={'first':first_name, 'last':last_name}\n",
    "    if age:\n",
    "        person['age'] = age\n",
    "    return person\n",
    "\n",
    "musician = build_person('jimi','hendrix',27)\n",
    "print(musician)\n"
   ]
  },
  {
   "cell_type": "code",
   "execution_count": 5,
   "metadata": {},
   "outputs": [
    {
     "name": "stdout",
     "output_type": "stream",
     "text": [
      "{'first': 'jimi', 'last': 'hendrix'}\n"
     ]
    }
   ],
   "source": [
    "def build_person(first_name,last_name,age=None):\n",
    "    \"\"\"Return a dictionary of information about a person.\"\"\"\n",
    "    person ={'first':first_name, 'last':last_name}\n",
    "    if age:\n",
    "        person['age'] = age\n",
    "    return person\n",
    "\n",
    "musician = build_person('jimi','hendrix')\n",
    "print(musician)\n"
   ]
  },
  {
   "cell_type": "markdown",
   "metadata": {},
   "source": [
    "### Using a function with a loop"
   ]
  },
  {
   "cell_type": "code",
   "execution_count": null,
   "metadata": {},
   "outputs": [
    {
     "name": "stdout",
     "output_type": "stream",
     "text": [
      "\n",
      "Please tell me your name: \n",
      "First_name: Renata\n",
      "Last_name: Thomazelli\n",
      "\n",
      "Hello Renata Thomazelli!\n",
      "\n",
      "Please tell me your name: \n"
     ]
    }
   ],
   "source": [
    "def get_formatted_name(first_name, last_name):\n",
    "    \"\"\"Return a full name, neatly formatted\"\"\"\n",
    "    full_name = f\"{first_name} {last_name}\"\n",
    "    return full_name.title()\n",
    "\n",
    "# This is a infinite loop!\n",
    "\n",
    "while True:\n",
    "    print(\"\\nPlease tell me your name: \")\n",
    "    f_name=input(\"First_name: \")\n",
    "    l_name=input(\"Last_name: \")\n",
    "                       \n",
    "    formatted_name = get_formatted_name(f_name,l_name)\n",
    "    print(f\"\\nHello {formatted_name}!\")                   \n"
   ]
  },
  {
   "cell_type": "code",
   "execution_count": 7,
   "metadata": {},
   "outputs": [
    {
     "name": "stdout",
     "output_type": "stream",
     "text": [
      "\n",
      "Please tell me your name: \n",
      "(enter 'q' at any time to quit)\n",
      "First name: Renata\n",
      "Last name: Thomazelli\n",
      "\n",
      "Hello Renata Thomazelli!\n",
      "\n",
      "Please tell me your name: \n",
      "(enter 'q' at any time to quit)\n",
      "First name: Renata\n",
      "Last name: q\n"
     ]
    }
   ],
   "source": [
    "def get_formatted_name(first_name, last_name):\n",
    "    \"\"\"Return a full name, neatly formatted\"\"\"\n",
    "    full_name = f\"{first_name} {last_name}\"\n",
    "    return full_name.title()\n",
    "\n",
    "# This is a infinite loop!\n",
    "\n",
    "while True:\n",
    "    print(\"\\nPlease tell me your name: \")\n",
    "    print(\"(enter 'q' at any time to quit)\")\n",
    "    \n",
    "    f_name = input(\"First name: \")\n",
    "    if f_name == 'q':\n",
    "        break\n",
    "        \n",
    "    l_name = input(\"Last name: \")\n",
    "    if l_name =='q':\n",
    "        break\n",
    "    \n",
    "    \n",
    "                       \n",
    "    formatted_name = get_formatted_name(f_name,l_name)\n",
    "    print(f\"\\nHello {formatted_name}!\")                   \n"
   ]
  },
  {
   "cell_type": "markdown",
   "metadata": {},
   "source": [
    "__8-6. City Names:__ Write a function called city_country() that takes in the name  \n",
    "of a city and its country. The function should return a string formatted like this:  \n",
    "\n"
   ]
  },
  {
   "cell_type": "code",
   "execution_count": 12,
   "metadata": {},
   "outputs": [],
   "source": [
    "def city_country (city, country):\n",
    "    print(f\" {city.title()}, {country.title()}\")\n",
    "          \n"
   ]
  },
  {
   "cell_type": "code",
   "execution_count": 16,
   "metadata": {},
   "outputs": [
    {
     "name": "stdout",
     "output_type": "stream",
     "text": [
      " São Paulo, Brazil\n",
      " Santiago, Chile\n"
     ]
    }
   ],
   "source": [
    "city_country('são paulo','brazil')\n",
    "city_country(country=\"chile\",city=\"santiago\")"
   ]
  },
  {
   "cell_type": "markdown",
   "metadata": {},
   "source": [
    "__8-7. Album:__ Write a function called make_album() that builds a dictionary  \n",
    "describing a music album. The function should take in an artist name and an  \n",
    "album title, and it should return a dictionary containing these two pieces of  \n",
    "information. Use the function to make three dictionaries representing different  \n",
    "albums. Print each return value to show that the dictionaries are storing the  \n",
    "album information correctly.  \n",
    "Use None to add an optional parameter to make_album() that allows you to    \n",
    "store the number of songs on an album. If the calling line includes a value for  \n",
    "the number of songs, add that value to the album’s dictionary. Make at least  \n",
    "one new function call that includes the number of songs on an album.  "
   ]
  },
  {
   "cell_type": "code",
   "execution_count": 21,
   "metadata": {},
   "outputs": [],
   "source": [
    "def make_album(musician, album_name,numbers_of_musics = None):\n",
    "    \"\"\"This function call the album and the musician name\"\"\"\n",
    "    dic_album ={'album_n' :album_name, 'musician_n':musician}\n",
    "    \n",
    "    if numbers_of_musics:\n",
    "        \n",
    "        dic_album['numbers_of_musics']  = numbers_of_musics\n",
    "    \n",
    "    return dic_album\n",
    "    \n",
    "    \n",
    "    "
   ]
  },
  {
   "cell_type": "code",
   "execution_count": 22,
   "metadata": {},
   "outputs": [
    {
     "data": {
      "text/plain": [
       "{'album_n': 'cor', 'musician_n': 'anavitória'}"
      ]
     },
     "execution_count": 22,
     "metadata": {},
     "output_type": "execute_result"
    }
   ],
   "source": [
    "make_album('anavitória','cor')\n"
   ]
  },
  {
   "cell_type": "code",
   "execution_count": 23,
   "metadata": {},
   "outputs": [
    {
     "data": {
      "text/plain": [
       "{'album_n': 'distant', 'musician_n': 'bun b and Le$', 'numbers_of_musics': 5}"
      ]
     },
     "execution_count": 23,
     "metadata": {},
     "output_type": "execute_result"
    }
   ],
   "source": [
    "make_album('bun b and Le$','distant',5)\n"
   ]
  },
  {
   "cell_type": "code",
   "execution_count": 24,
   "metadata": {},
   "outputs": [
    {
     "data": {
      "text/plain": [
       "{'album_n': 'Your parents are sellouts', 'musician_n': 'the handsome devil'}"
      ]
     },
     "execution_count": 24,
     "metadata": {},
     "output_type": "execute_result"
    }
   ],
   "source": [
    "make_album('the handsome devil','Your parents are sellouts')"
   ]
  },
  {
   "cell_type": "code",
   "execution_count": 25,
   "metadata": {},
   "outputs": [
    {
     "name": "stdout",
     "output_type": "stream",
     "text": [
      "{'album_n': 'cor', 'musician_n': 'anavitória'}\n",
      "{'album_n': 'distant', 'musician_n': 'bun b and Le$', 'numbers_of_musics': 5}\n",
      "{'album_n': 'Your parents are sellouts', 'musician_n': 'the handsome devil'}\n"
     ]
    }
   ],
   "source": [
    "musician1 =make_album('anavitória','cor')\n",
    "print(musician1)\n",
    "musician2 =make_album('bun b and Le$','distant',5)\n",
    "print(musician2)\n",
    "musician3 =make_album('the handsome devil','Your parents are sellouts')\n",
    "print(musician3)"
   ]
  },
  {
   "cell_type": "markdown",
   "metadata": {},
   "source": [
    "__8-8. User Albums:__ Start with your program from Exercise 8-7. Write a while  \n",
    "loop that allows users to enter an album’s artist and title. Once you have that  \n",
    "information, call make_album() with the user’s input and print the dictionary  \n",
    "that’s created. Be sure to include a quit value in the while loop.  "
   ]
  },
  {
   "cell_type": "code",
   "execution_count": null,
   "metadata": {},
   "outputs": [
    {
     "name": "stdout",
     "output_type": "stream",
     "text": [
      "\n",
      "Musician's name and the album's name\n",
      "Enter 'q' at any time to quit\n",
      "Write the musician's name: Renata\n",
      "Write the album's name: Happyness\n",
      "We have an indication Happyness\n",
      "\n",
      "Musician's name and the album's name\n",
      "Enter 'q' at any time to quit\n"
     ]
    }
   ],
   "source": [
    "def make_album(musician, album_name,numbers_of_musics = None):\n",
    "    \"\"\"This function call the album and the musician name\"\"\"\n",
    "    dic_album ={'album_n' :album_name, 'musician_n':musician}\n",
    "    \n",
    "    if numbers_of_musics:\n",
    "        dic_album['numbers_of_musics']  = numbers_of_musics\n",
    "    return dic_album['album_n']\n",
    "\n",
    "while True:\n",
    "    print(f\"\\nMusician's name and the album's name\")\n",
    "    print(f\"Enter 'q' at any time to quit\")\n",
    "    \n",
    "    musician_name = input(\"Write the musician's name: \")\n",
    "    if musician_name == 'q':\n",
    "        break\n",
    "    \n",
    "    album_name=input(f\"Write the album's name: \")\n",
    "    if album_name =='q':\n",
    "        break\n",
    "    build_musician = make_album (musician_name,album_name)  \n",
    "    print(f\"We have an indication {build_musician}\")"
   ]
  },
  {
   "cell_type": "code",
   "execution_count": 3,
   "metadata": {},
   "outputs": [
    {
     "name": "stdout",
     "output_type": "stream",
     "text": [
      "\n",
      "Musician's name and the album's name\n",
      "Enter 'q' at any time to quit\n",
      "Write the musician's name: Renata\n",
      "Write the album's name: Hapyness\n",
      "We have an indication  Hapyness by  Renata.\n",
      "\n",
      "Musician's name and the album's name\n",
      "Enter 'q' at any time to quit\n",
      "Write the musician's name: q\n"
     ]
    }
   ],
   "source": [
    "def make_album(musician, album_name,numbers_of_musics = None):\n",
    "    \"\"\"This function call the album and the musician name\"\"\"\n",
    "    dic_album ={'album_n' :album_name, 'musician_n':musician}\n",
    "    \n",
    "    if numbers_of_musics:\n",
    "        dic_album['numbers_of_musics']  = numbers_of_musics\n",
    "    \n",
    "    return f\" {dic_album['album_n']} by  {dic_album['musician_n']}.\"\n",
    "\n",
    "while True:\n",
    "    print(f\"\\nMusician's name and the album's name\")\n",
    "    print(f\"Enter 'q' at any time to quit\")\n",
    "    \n",
    "    musician_name = input(\"Write the musician's name: \")\n",
    "    if musician_name == 'q':\n",
    "        break\n",
    "    \n",
    "    album_name=input(f\"Write the album's name: \")\n",
    "    if album_name =='q':\n",
    "        break\n",
    "    build_musician = make_album (musician_name,album_name)  \n",
    "    print(f\"We have an indication {build_musician}\")"
   ]
  },
  {
   "cell_type": "markdown",
   "metadata": {},
   "source": [
    "### Passing a List page 143"
   ]
  },
  {
   "cell_type": "code",
   "execution_count": 2,
   "metadata": {},
   "outputs": [
    {
     "name": "stdout",
     "output_type": "stream",
     "text": [
      "Hello Hannah!\n",
      "Hello Ty!\n",
      "Hello Margot!\n"
     ]
    }
   ],
   "source": [
    "def greet_users(names):\n",
    "    \"\"\"Print a simple greeting to each user in the list.\"\"\"\n",
    "    for name in names:\n",
    "        msg = f\"Hello {name.title()}!\"\n",
    "        print(msg)\n",
    "        \n",
    "usernames = ['hannah','ty','margot']\n",
    "\n",
    "greet_users(usernames)\n",
    "    "
   ]
  },
  {
   "cell_type": "code",
   "execution_count": 4,
   "metadata": {},
   "outputs": [
    {
     "name": "stdout",
     "output_type": "stream",
     "text": [
      "Printing model: dodecahedron\n",
      "Printing model: robot pendant\n",
      "Printing model: phone case\n",
      "\n",
      "The following modesl had been printed: \n",
      "dodecahedron\n",
      "robot pendant\n",
      "phone case\n"
     ]
    }
   ],
   "source": [
    "#Start with some designes, that need to be printed.\n",
    "unprinted_designers = ['phone case','robot pendant','dodecahedron']\n",
    "completed_models =[]\n",
    "\n",
    "#Simulate printing each design, until none are left.\n",
    "\n",
    "#Move each design to completed_models after printing.\n",
    "\n",
    "while unprinted_designers:\n",
    "    current_design = unprinted_designers.pop()\n",
    "    print(f\"Printing model: {current_design}\")\n",
    "    completed_models.append(current_design)\n",
    "    \n",
    "#Display all completed models.\n",
    "print(\"\\nThe following modesl had been printed: \")\n",
    "for completed_model in completed_models:\n",
    "    print(completed_model)\n"
   ]
  },
  {
   "cell_type": "code",
   "execution_count": 9,
   "metadata": {},
   "outputs": [
    {
     "name": "stdout",
     "output_type": "stream",
     "text": [
      "Printing model: dodecahedron\n",
      "Printing model: robot pendant\n",
      "Printing model: phone case\n",
      "\n",
      "The following models had been printed: \n",
      "dodecahedron\n",
      "robot pendant\n",
      "phone case\n"
     ]
    }
   ],
   "source": [
    "def print_models(unprinted_designs, completed_models):\n",
    "\n",
    "\n",
    "#Simulate printing each design, until none are left.\n",
    "\n",
    "#Move each design to completed_models after printing.\n",
    "\n",
    "    while unprinted_designs:\n",
    "        current_design = unprinted_designs.pop()\n",
    "        print(f\"Printing model: {current_design}\")\n",
    "        completed_models.append(current_design)\n",
    "    \n",
    "def show_completed_models(completed_models):\n",
    "    \"\"\"Show all the models that were printed:\"\"\"\n",
    "    print(\"\\nThe following models had been printed: \")\n",
    "    for completed_model in completed_models:\n",
    "        print(completed_model)\n",
    "    \n",
    "unprinted_designs = ['phone case', 'robot pendant', 'dodecahedron']\n",
    "completed_models = []\n",
    "\n",
    "print_models(unprinted_designs,completed_models)\n",
    "show_completed_models(completed_models)"
   ]
  },
  {
   "cell_type": "code",
   "execution_count": 10,
   "metadata": {},
   "outputs": [
    {
     "name": "stdout",
     "output_type": "stream",
     "text": [
      "Printing model: dodecahedron\n",
      "Printing model: robot pendant\n",
      "Printing model: phone case\n",
      "\n",
      "The following models had been printed: \n",
      "dodecahedron\n",
      "robot pendant\n",
      "phone case\n"
     ]
    }
   ],
   "source": [
    "unprinted_designs = ['phone case', 'robot pendant', 'dodecahedron']\n",
    "completed_models = []\n",
    "\n",
    "print_models(unprinted_designs,completed_models)\n",
    "show_completed_models(completed_models)"
   ]
  },
  {
   "cell_type": "markdown",
   "metadata": {},
   "source": [
    "### Preventing a Function from Modifying a List"
   ]
  },
  {
   "cell_type": "markdown",
   "metadata": {},
   "source": [
    "The slice notation [:] makes a copy of the list to send to the function.  \n",
    "If we didn’t want to empty the list of unprinted designs in printing_models.py,  \n",
    "we could call print_models() like this:  "
   ]
  },
  {
   "cell_type": "code",
   "execution_count": 11,
   "metadata": {},
   "outputs": [
    {
     "name": "stdout",
     "output_type": "stream",
     "text": [
      "Printing model: dodecahedron\n",
      "Printing model: robot pendant\n",
      "Printing model: phone case\n",
      "\n",
      "The following models had been printed: \n",
      "dodecahedron\n",
      "robot pendant\n",
      "phone case\n"
     ]
    }
   ],
   "source": [
    "unprinted_designs = ['phone case', 'robot pendant', 'dodecahedron']\n",
    "completed_models = []\n",
    "\n",
    "print_models(unprinted_designs [:],completed_models)\n",
    "show_completed_models(completed_models)"
   ]
  },
  {
   "cell_type": "code",
   "execution_count": 12,
   "metadata": {},
   "outputs": [
    {
     "name": "stdout",
     "output_type": "stream",
     "text": [
      "['phone case', 'robot pendant', 'dodecahedron']\n"
     ]
    }
   ],
   "source": [
    "# As you can see the program worked with a copy of the origina list\n",
    "\n",
    "print(unprinted_designs)"
   ]
  },
  {
   "cell_type": "markdown",
   "metadata": {},
   "source": [
    "__8-9. Messages:__ Make a list containing a series of short text messages. Pass   \n",
    "list to a function called show_messages(), which prints each text message.  \n"
   ]
  },
  {
   "cell_type": "code",
   "execution_count": 13,
   "metadata": {},
   "outputs": [
    {
     "name": "stdout",
     "output_type": "stream",
     "text": [
      "Hello\n",
      "It's nice to meet you\n",
      "Hi\n"
     ]
    }
   ],
   "source": [
    "messages1 = ['Hello',\"It's nice to meet you\",'Hi']\n",
    "\n",
    "def show_messages(messages):\n",
    "    for message in messages:\n",
    "        print(message)\n",
    "show_messages(messages1)"
   ]
  },
  {
   "cell_type": "markdown",
   "metadata": {},
   "source": [
    "__8-10. Sending Messages:__ Start with a copy of your program from Exercise 8-9.\n",
    "Write a function called send_messages() that prints each text message and\n",
    "moves each message to a new list called sent_messages as it’s printed. After\n",
    "calling the function, print both of your lists to make sure the messages were\n",
    "moved correctly. "
   ]
  },
  {
   "cell_type": "code",
   "execution_count": 8,
   "metadata": {},
   "outputs": [
    {
     "name": "stdout",
     "output_type": "stream",
     "text": [
      "We are sending this message: Hello.\n",
      "We are sending this message: It's nice to meet you.\n",
      "We are sending this message: Hi.\n",
      "\n",
      "We have send this messages\n",
      "Hello\n",
      "It's nice to meet you\n",
      "Hi\n"
     ]
    }
   ],
   "source": [
    "\n",
    "def send_messages(messages_waiting_to_send, messages_sent):\n",
    "    \n",
    "    while messages_waiting_to_send:\n",
    "        sending_message = messages_waiting_to_send.pop()\n",
    "        print(f\"We are sending this message: {sending_message}.\")\n",
    "        messages_sent.append(sending_message)\n",
    "    \n",
    "def sent_messages (messages_sent):\n",
    "    print(\"\\nWe have send this messages\")\n",
    "    for message in messages_sent:\n",
    "        print(message)\n",
    "        \n",
    "\n",
    "messages_to_send =['Hi',\"It's nice to meet you\",\"Hello\"]\n",
    "messages_sent = []\n",
    "\n",
    "send_messages(messages_to_send,messages_sent)\n",
    "sent_messages(messages_sent)\n",
    "    "
   ]
  },
  {
   "cell_type": "markdown",
   "metadata": {},
   "source": [
    "__8-11. Archived Messages:__ Start with your work from Exercise 8-10. Call the  \n",
    "function send_messages() with a copy of the list of messages. After calling the  \n",
    "function, print both of your lists to show that the original list has retained its  \n",
    "messages.  "
   ]
  },
  {
   "cell_type": "code",
   "execution_count": 10,
   "metadata": {},
   "outputs": [
    {
     "name": "stdout",
     "output_type": "stream",
     "text": [
      "We are sending this message: Hello.\n",
      "We are sending this message: It's nice to meet you.\n",
      "We are sending this message: Hi.\n",
      "\n",
      "We have send this messages\n",
      "Hello\n",
      "It's nice to meet you\n",
      "Hi\n"
     ]
    }
   ],
   "source": [
    "def send_messages(messages_waiting_to_send, messages_sent):\n",
    "    \n",
    "    while messages_waiting_to_send:\n",
    "        sending_message = messages_waiting_to_send.pop()\n",
    "        print(f\"We are sending this message: {sending_message}.\")\n",
    "        messages_sent.append(sending_message)\n",
    "    \n",
    "def sent_messages (messages_sent):\n",
    "    print(\"\\nWe have send this messages\")\n",
    "    for message in messages_sent:\n",
    "        print(message)\n",
    "        \n",
    "\n",
    "messages_to_send =['Hi',\"It's nice to meet you\",\"Hello\"]\n",
    "messages_sent = []\n",
    "\n",
    "send_messages(messages_to_send[:],messages_sent)\n",
    "sent_messages(messages_sent)"
   ]
  },
  {
   "cell_type": "code",
   "execution_count": 11,
   "metadata": {},
   "outputs": [
    {
     "name": "stdout",
     "output_type": "stream",
     "text": [
      "['Hi', \"It's nice to meet you\", 'Hello']\n",
      "['Hello', \"It's nice to meet you\", 'Hi']\n"
     ]
    }
   ],
   "source": [
    "print(messages_to_send)\n",
    "print(messages_sent)"
   ]
  },
  {
   "cell_type": "markdown",
   "metadata": {},
   "source": [
    "### Passing an Arbitrary Number of Arguments page 148"
   ]
  },
  {
   "cell_type": "code",
   "execution_count": 2,
   "metadata": {},
   "outputs": [
    {
     "name": "stdout",
     "output_type": "stream",
     "text": [
      "('pepperoni',)\n",
      "('peperroni', 'cheddar', 'mushrooms', 'green peppers', 'extra cheese')\n"
     ]
    }
   ],
   "source": [
    "def make_pizza(*toppings):\n",
    "    \"\"\"Print the list of toppings that have been requested.\"\"\"\n",
    "    print(toppings)\n",
    "    \n",
    "    \n",
    "#The asterisk in the parameter name *toppings tells Python to make an  \n",
    "#empty tuple called toppings and pack whatever values it receives into this  \n",
    "#tuple. The print() call in the function body produces output showing that\n",
    "\n",
    "#Python can handle a function call with one value and a call with three\n",
    "#values. It treats the different calls similarly. Note that Python packs the\n",
    "#arguments into a tuple, even if the function receives only one value:\n",
    "    \n",
    "    \n",
    "make_pizza('pepperoni')\n",
    "make_pizza('peperroni','cheddar','mushrooms','green peppers','extra cheese')"
   ]
  },
  {
   "cell_type": "code",
   "execution_count": 5,
   "metadata": {},
   "outputs": [
    {
     "name": "stdout",
     "output_type": "stream",
     "text": [
      "\n",
      "Making a pizza with the following toppings\n",
      "- pepperoni\n",
      "\n",
      "Making a pizza with the following toppings\n",
      "- peperroni\n",
      "- cheddar\n",
      "- mushrooms\n",
      "- green peppers\n",
      "- extra cheese\n"
     ]
    }
   ],
   "source": [
    "def make_pizza(*toppings):\n",
    "    \"\"\"Summarize the pizza we are about to make.\"\"\"\n",
    "    print(f\"\\nMaking a pizza with the following toppings\")\n",
    "    for topping in toppings:\n",
    "        print(f\"- {topping}\")\n",
    "        \n",
    "make_pizza('pepperoni')\n",
    "make_pizza('peperroni','cheddar','mushrooms','green peppers','extra cheese')"
   ]
  },
  {
   "cell_type": "markdown",
   "metadata": {},
   "source": [
    "### Making Positional and Arbitrary Arguments"
   ]
  },
  {
   "cell_type": "code",
   "execution_count": 6,
   "metadata": {},
   "outputs": [
    {
     "name": "stdout",
     "output_type": "stream",
     "text": [
      "\n",
      "Making a 16 - inch pizza with the following toppings\n",
      "- pepperoni\n",
      "\n",
      "Making a 12 - inch pizza with the following toppings\n",
      "- peperroni\n",
      "- cheddar\n",
      "- mushrooms\n",
      "- green peppers\n",
      "- extra cheese\n"
     ]
    }
   ],
   "source": [
    "def make_pizza(size,*toppings):\n",
    "    \"\"\"Summarize the pizza we are about to make.\"\"\"\n",
    "    print(f\"\\nMaking a {size} - inch pizza with the following toppings\")\n",
    "    for topping in toppings:\n",
    "        print(f\"- {topping}\")\n",
    "        \n",
    "make_pizza(16,'pepperoni')\n",
    "make_pizza(12,'peperroni','cheddar','mushrooms','green peppers','extra cheese')"
   ]
  },
  {
   "cell_type": "markdown",
   "metadata": {},
   "source": [
    "### Using Arbitrary Keyword Arguments"
   ]
  },
  {
   "cell_type": "code",
   "execution_count": 25,
   "metadata": {},
   "outputs": [
    {
     "name": "stdout",
     "output_type": "stream",
     "text": [
      "{'location': 'princeton', 'field': 'physics', 'first_name': 'albert', 'last_name': 'einstein'}\n"
     ]
    }
   ],
   "source": [
    "def build_profile(first, last, **user_info):\n",
    "\n",
    "    \"\"\"Build a dictionary containing everything we know about a user.\"\"\"\n",
    "    user_info['first_name'] = first\n",
    "    user_info['last_name'] = last\n",
    "    return user_info\n",
    "\n",
    "user_profile = build_profile('albert', 'einstein', \\\n",
    "                                 location='princeton',field = 'physics')\n",
    "print(user_profile)"
   ]
  },
  {
   "cell_type": "markdown",
   "metadata": {},
   "source": [
    "__8-12. Sandwiches:__ Write a function that accepts a list of items a person wants  \n",
    "on a sandwich. The function should have one parameter that collects as many  \n",
    "items as the function call provides, and it should print a summary of the sand-  \n",
    "wich that’s being ordered. Call the function three times, using a different num-  \n",
    "ber of arguments each time.  "
   ]
  },
  {
   "cell_type": "code",
   "execution_count": 20,
   "metadata": {},
   "outputs": [],
   "source": [
    "def making_sandwiches (*items):\n",
    "    \"\"\"Summarizing the items for the sandwishes order\"\"\"\n",
    "    if len(items) == 1:\n",
    "        print(\"\\nThis is the item for your sandwish\")\n",
    "        for item in items:\n",
    "            print(f\"-{item.title()}\")\n",
    "            \n",
    "    \n",
    "    else:    \n",
    "        print(\"\\nThese are the items for your sandwish\")    \n",
    "        for item in items:\n",
    "            print(f\"-{item.title()}\")\n",
    "        \n"
   ]
  },
  {
   "cell_type": "code",
   "execution_count": 21,
   "metadata": {},
   "outputs": [
    {
     "name": "stdout",
     "output_type": "stream",
     "text": [
      "\n",
      "This is the item for your sandwish\n",
      "-Alface\n",
      "\n",
      "These are the items for your sandwish\n",
      "-Tomate\n",
      "-Piches\n",
      "-Hamburgue\n"
     ]
    }
   ],
   "source": [
    "making_sandwiches('alface')\n",
    "making_sandwiches('tomate','piches','hamburgue')"
   ]
  },
  {
   "cell_type": "markdown",
   "metadata": {},
   "source": [
    "__8-13. User Profile:__ Start with a copy of user_profile.py from page 149. Build a  \n",
    "profile of yourself by calling build_profile(), using your first and last names  \n",
    "and three other key-value pairs that describe you.  "
   ]
  },
  {
   "cell_type": "code",
   "execution_count": 41,
   "metadata": {},
   "outputs": [
    {
     "name": "stdout",
     "output_type": "stream",
     "text": [
      "[('age', 38), ('first_name', 'Renata'), ('last_name', 'Thomazelli'), ('professional', 'developer')]\n",
      " Renata Thomazelli the user is 38 year of age and her professional is developer\n"
     ]
    }
   ],
   "source": [
    "user_informe = build_profile(first='Renata', last='Thomazelli',age=38,professional = 'developer')\n",
    "print(sorted(user_informe.items()))\n",
    "\n",
    "# or\n",
    "\n",
    "print(f\" {user_informe['first_name']} {user_informe['last_name']} the user is {user_informe['age']} year of age \\\n",
    "and her professional is {user_informe['professional']}\")"
   ]
  },
  {
   "cell_type": "markdown",
   "metadata": {},
   "source": [
    "__8-14. Cars:__ Write a function that stores information about a car in a diction-  \n",
    "ary. The function should always receive a manufacturer and a model name. It    \n",
    "  \n",
    "should then accept an arbitrary number of keyword arguments. Call the func-  \n",
    "tion with the required information and two other name-value pairs, such as a  \n",
    "\n",
    "color or an optional feature.  "
   ]
  },
  {
   "cell_type": "code",
   "execution_count": 2,
   "metadata": {},
   "outputs": [
    {
     "name": "stdout",
     "output_type": "stream",
     "text": [
      "{'category': 'Coupe, Convertible', 'year': 2013, 'manufact': 'BMW', 'modelo': '1 Series'}\n",
      "{'category': 'Convertible', 'year': 2019, 'manufact': 'FIAT', 'modelo': '124 Spider'}\n"
     ]
    }
   ],
   "source": [
    "def cars_information(manufacturer,model,**car_information):\n",
    "    \"\"\"Print all the information we know about the car\"\"\"\n",
    "    car_information['manufact'] = manufacturer\n",
    "    car_information['modelo'] = model\n",
    "    return car_information\n",
    "\n",
    "car1 = cars_information('BMW','1 Series',category ='Coupe, Convertible', year = 2013)\n",
    "car2 = cars_information('FIAT','124 Spider',category = 'Convertible', year = 2019)\n",
    "\n",
    "print(car1)\n",
    "print(car2)"
   ]
  },
  {
   "cell_type": "markdown",
   "metadata": {},
   "source": [
    "### Storing your functions in Modules"
   ]
  },
  {
   "cell_type": "code",
   "execution_count": 3,
   "metadata": {},
   "outputs": [
    {
     "name": "stdout",
     "output_type": "stream",
     "text": [
      "\n",
      "Making a 16 - inch pizza with the following toppings\n",
      "- pepperoni\n",
      "\n",
      "Making a 12 - inch pizza with the following toppings\n",
      "- mushrooms\n",
      "- green peppers\n",
      "- extra cheese\n"
     ]
    }
   ],
   "source": [
    "import pizza\n",
    "\n",
    "pizza.make_pizza(16,'pepperoni')\n",
    "pizza.make_pizza(12,'mushrooms','green peppers','extra cheese')    "
   ]
  },
  {
   "cell_type": "code",
   "execution_count": 4,
   "metadata": {},
   "outputs": [
    {
     "name": "stdout",
     "output_type": "stream",
     "text": [
      "\n",
      "Making a 16 - inch pizza with the following toppings\n",
      "- pepperoni\n",
      "\n",
      "Making a 12 - inch pizza with the following toppings\n",
      "- mushrooms\n",
      "- green peppers\n",
      "- extra cheese\n"
     ]
    }
   ],
   "source": [
    "from pizza import make_pizza\n",
    "\n",
    "make_pizza(16,'pepperoni')\n",
    "make_pizza(12,'mushrooms','green peppers','extra cheese')"
   ]
  },
  {
   "cell_type": "markdown",
   "metadata": {},
   "source": [
    "### Using as to Give a Function an Alias"
   ]
  },
  {
   "cell_type": "code",
   "execution_count": 5,
   "metadata": {},
   "outputs": [
    {
     "name": "stdout",
     "output_type": "stream",
     "text": [
      "\n",
      "Making a 16 - inch pizza with the following toppings\n",
      "- pepperoni\n",
      "\n",
      "Making a 12 - inch pizza with the following toppings\n",
      "- mushrooms\n",
      "- green peppers\n",
      "- extra cheese\n"
     ]
    }
   ],
   "source": [
    "from pizza import make_pizza as mp\n",
    "\n",
    "mp(16,'pepperoni')\n",
    "mp(12,'mushrooms','green peppers','extra cheese')"
   ]
  },
  {
   "cell_type": "markdown",
   "metadata": {},
   "source": [
    "### Using as to give a module an Alias"
   ]
  },
  {
   "cell_type": "code",
   "execution_count": 6,
   "metadata": {},
   "outputs": [
    {
     "name": "stdout",
     "output_type": "stream",
     "text": [
      "\n",
      "Making a 16 - inch pizza with the following toppings\n",
      "- pepperoni\n",
      "\n",
      "Making a 12 - inch pizza with the following toppings\n",
      "- mushrooms\n",
      "- green peppers\n",
      "- extra cheese\n"
     ]
    }
   ],
   "source": [
    "import pizza as p\n",
    "\n",
    "p.make_pizza(16,'pepperoni')\n",
    "p.make_pizza(12,'mushrooms','green peppers','extra cheese')"
   ]
  },
  {
   "cell_type": "markdown",
   "metadata": {},
   "source": [
    "### Import all function in a module"
   ]
  },
  {
   "cell_type": "code",
   "execution_count": 7,
   "metadata": {},
   "outputs": [
    {
     "name": "stdout",
     "output_type": "stream",
     "text": [
      "\n",
      "Making a 16 - inch pizza with the following toppings\n",
      "- pepperoni\n",
      "\n",
      "Making a 12 - inch pizza with the following toppings\n",
      "- mushrooms\n",
      "- green peppers\n",
      "- extra cheese\n"
     ]
    }
   ],
   "source": [
    "# you can tell lPython to imprt eery functio in a module by using asterisk (*) operator:\n",
    "\n",
    "from pizza import *\n",
    "\n",
    "make_pizza (16,'pepperoni')\n",
    "make_pizza (12,'mushrooms','green peppers','extra cheese')"
   ]
  },
  {
   "cell_type": "code",
   "execution_count": null,
   "metadata": {},
   "outputs": [],
   "source": []
  }
 ],
 "metadata": {
  "kernelspec": {
   "display_name": "Python 3",
   "language": "python",
   "name": "python3"
  },
  "language_info": {
   "codemirror_mode": {
    "name": "ipython",
    "version": 3
   },
   "file_extension": ".py",
   "mimetype": "text/x-python",
   "name": "python",
   "nbconvert_exporter": "python",
   "pygments_lexer": "ipython3",
   "version": "3.7.6"
  }
 },
 "nbformat": 4,
 "nbformat_minor": 4
}
