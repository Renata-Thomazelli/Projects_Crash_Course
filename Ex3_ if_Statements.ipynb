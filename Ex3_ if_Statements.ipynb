{
 "cells": [
  {
   "cell_type": "markdown",
   "metadata": {},
   "source": [
    "## Exercises"
   ]
  },
  {
   "cell_type": "markdown",
   "metadata": {},
   "source": [
    "### Here we have some exercises from the book Python crash course where we can see:\n",
    "\n",
    ">* In this exercise you will see:\n",
    " >>   * how so solve a problem providing that it new user be unique\n",
    " >>   * considering case sensitive, even when the name of the new user just change the case letter to upper or lower\n",
    " >>   * for that we use:\n",
    " >>> * __`for in`__\n",
    " >>> * __`map`__\n",
    " >>> * __`str.lower`__\n",
    " >>> * __`title`__\n",
    " >>> * __`lambda`__ othe way to do it"
   ]
  },
  {
   "cell_type": "markdown",
   "metadata": {},
   "source": [
    "__5-10. Checking Usernames:__ Do the following to create a program that simulates  \n",
    "how websites ensure that everyone has a unique username.\n",
    "\n",
    "* Make a list of five or more usernames called current_users.  \n",
    "* Make another list of five usernames called new_users. Make sure one or  \n",
    "two of the new usernames are also in the current_users list.\n",
    "* Loop through the new_users list to see if each new username has already  \n",
    "been used. If it has, print a message that the person will need to enter a  \n",
    "new username. If a username has not been used, print a message saying  \n",
    "that the username is available.\n",
    "* Make sure your comparison is case insensitive. If 'John' has been used,  \n",
    "'JOHN' should not be accepted. (To do this, you’ll need to make a copy of  \n",
    "current_users containing the lowercase versions of all existing users.)"
   ]
  },
  {
   "cell_type": "code",
   "execution_count": 16,
   "metadata": {},
   "outputs": [
    {
     "name": "stdout",
     "output_type": "stream",
     "text": [
      "Sorry this user name Tiago is not avalible. Try another user name\n",
      "This user name Betina is avalible\n",
      "This user name Yasmin is avalible\n",
      "This user name Clarice is avalible\n",
      "Sorry this user name Ana Paula is not avalible. Try another user name\n"
     ]
    }
   ],
   "source": [
    "current_users=[\"John\",\"Tiago\",\"Guilherme\", \"Ana Paula\",\"Renata\"]\n",
    "new_users=[\"TIAGO\",\"Betina\",\"Yasmin\",\"Clarice\",\"ANA PAULA\"]\n",
    "\n",
    "for new_user in list(map(str.lower,new_users)):\n",
    "    \n",
    "    if new_user in list(map(str.lower,current_users)):\n",
    "           print(f\"Sorry this user name {new_user.title()} is not avalible. Try another user name\")\n",
    "           \n",
    "    else:\n",
    "           print(f\"This user name {new_user.title()} is avalible\")\n",
    "\n",
    "\n",
    "\n"
   ]
  },
  {
   "cell_type": "code",
   "execution_count": 11,
   "metadata": {},
   "outputs": [
    {
     "data": {
      "text/plain": [
       "['john', 'tiago', 'guilherme', 'ana paula', 'renata']"
      ]
     },
     "execution_count": 11,
     "metadata": {},
     "output_type": "execute_result"
    }
   ],
   "source": [
    "current_users=[\"John\",\"Tiago\",\"Guilherme\", \"Ana Paula\",\"Renata\"]\n",
    "list(map(str.lower,current_users))"
   ]
  },
  {
   "cell_type": "code",
   "execution_count": 12,
   "metadata": {},
   "outputs": [
    {
     "name": "stdout",
     "output_type": "stream",
     "text": [
      "['John', 'Tiago', 'Guilherme', 'Ana Paula', 'Renata']\n"
     ]
    }
   ],
   "source": [
    "print(current_users)"
   ]
  },
  {
   "cell_type": "markdown",
   "metadata": {},
   "source": [
    "## We also can do that with lambda function"
   ]
  },
  {
   "cell_type": "code",
   "execution_count": 17,
   "metadata": {},
   "outputs": [
    {
     "name": "stdout",
     "output_type": "stream",
     "text": [
      "Sorry this user name Tiago is not avalible. Try another user name\n",
      "This user name Betina is avalible\n",
      "This user name Yasmin is avalible\n",
      "This user name Clarice is avalible\n",
      "Sorry this user name Ana Paula is not avalible. Try another user name\n"
     ]
    }
   ],
   "source": [
    "current_users=[\"John\",\"Tiago\",\"Guilherme\", \"Ana Paula\",\"Renata\"]\n",
    "new_users=[\"TIAGO\",\"Betina\",\"Yasmin\",\"Clarice\",\"ANA PAULA\"]\n",
    "\n",
    "for new_user in list(map(lambda x: x.lower(),new_users)):\n",
    "    \n",
    "    if new_user in list(map(lambda x: x.lower(),current_users)):\n",
    "           print(f\"Sorry this user name {new_user.title()} is not avalible. Try another user name\")\n",
    "           \n",
    "    else:\n",
    "           print(f\"This user name {new_user.title()} is avalible\")\n"
   ]
  },
  {
   "cell_type": "code",
   "execution_count": null,
   "metadata": {},
   "outputs": [],
   "source": []
  }
 ],
 "metadata": {
  "kernelspec": {
   "display_name": "Python 3",
   "language": "python",
   "name": "python3"
  },
  "language_info": {
   "codemirror_mode": {
    "name": "ipython",
    "version": 3
   },
   "file_extension": ".py",
   "mimetype": "text/x-python",
   "name": "python",
   "nbconvert_exporter": "python",
   "pygments_lexer": "ipython3",
   "version": "3.7.6"
  }
 },
 "nbformat": 4,
 "nbformat_minor": 4
}
