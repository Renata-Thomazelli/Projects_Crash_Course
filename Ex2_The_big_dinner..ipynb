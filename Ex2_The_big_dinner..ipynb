{
 "cells": [
  {
   "cell_type": "markdown",
   "metadata": {},
   "source": [
    "# Exercises"
   ]
  },
  {
   "cell_type": "markdown",
   "metadata": {},
   "source": [
    "## Here we have some exercises from the book  Python crash course where we can see:\n",
    "\n",
    " >> * print list\n",
    " >> * work with title() method\n",
    " >> * remove a item by its value\n",
    " >> * changing a item by its index\n",
    " >> * the differences between insert() and append() method\n",
    " >> * using a pop method to exclud and use this value excluded."
   ]
  },
  {
   "cell_type": "markdown",
   "metadata": {},
   "source": [
    "__3-4. Guest List:__ If you could invite anyone, living or deceased, to dinner, who  \n",
    "'''would you invite? Make a list that includes at least three people you’d like to  \n",
    "invite to dinner. Then use your list to print a message to each person, inviting  \n",
    "them to dinner.'''"
   ]
  },
  {
   "cell_type": "code",
   "execution_count": 1,
   "metadata": {},
   "outputs": [],
   "source": [
    "guest_list=['Marcelo','Andrea','Tiago']"
   ]
  },
  {
   "cell_type": "code",
   "execution_count": 2,
   "metadata": {},
   "outputs": [
    {
     "name": "stdout",
     "output_type": "stream",
     "text": [
      "Hi Marcelo How are you? I'm making a dinner. Would you like to come?\n",
      "Hi Andrea How are you? I'm making a dinner. Would you like to come?\n",
      "Hi Tiago How are you? I'm making a dinner. Would you like to come?\n"
     ]
    }
   ],
   "source": [
    "print(f\"Hi {guest_list[0].title()} How are you? I'm making a dinner. Would you like to come?\")\n",
    "print(f\"Hi {guest_list[1].title()} How are you? I'm making a dinner. Would you like to come?\")\n",
    "print(f\"Hi {guest_list[2].title()} How are you? I'm making a dinner. Would you like to come?\")"
   ]
  },
  {
   "cell_type": "raw",
   "metadata": {},
   "source": [
    "#3-5. Changing Guest List: You just heard that one of your guests can’t make the\n",
    "dinner, so you need to send out a new set of invitations. You’ll have to think of\n",
    "someone else to invite."
   ]
  },
  {
   "cell_type": "code",
   "execution_count": 3,
   "metadata": {},
   "outputs": [
    {
     "name": "stdout",
     "output_type": "stream",
     "text": [
      "['Andrea', 'Tiago']\n"
     ]
    }
   ],
   "source": [
    "guest_list.remove(\"Marcelo\")\n",
    "print(guest_list)"
   ]
  },
  {
   "cell_type": "markdown",
   "metadata": {},
   "source": [
    "Start with your program from Exercise 3-4. Add a print() call at the end\n",
    "of your program stating the name of the guest who can’t make it.\n",
    "• Modify your list, replacing the name of the guest who can’t make it with\n",
    "the name of the new person you are inviting.\n",
    "• Print a second set of invitation messages, one for each person who is still\n",
    "in your list."
   ]
  },
  {
   "cell_type": "code",
   "execution_count": 4,
   "metadata": {},
   "outputs": [
    {
     "name": "stdout",
     "output_type": "stream",
     "text": [
      "['Sheila', 'Andrea', 'Tiago']\n"
     ]
    }
   ],
   "source": [
    "guest_list=['Marcelo','Andrea','Tiago']\n",
    "guest_list[0]=\"Sheila\"\n",
    "print (guest_list)"
   ]
  },
  {
   "cell_type": "markdown",
   "metadata": {},
   "source": [
    "3-6. More Guests: You just found a bigger dinner table, so now more space is\n",
    "available. Think of three more guests to invite to dinner.\n",
    "• Start with your program from Exercise 3-4 or Exercise 3-5. Add a print()\n",
    "call to the end of your program informing people that you found a bigger\n",
    "dinner table.\n",
    "• Use insert() to add one new guest to the beginning of your list.\n",
    "• Use insert() to add one new guest to the middle of your list.\n",
    "• Use append() to add one new guest to the end of your list.\n",
    "• Print a new set of invitation messages, one for each person in your list.\n"
   ]
  },
  {
   "cell_type": "code",
   "execution_count": 5,
   "metadata": {},
   "outputs": [
    {
     "name": "stdout",
     "output_type": "stream",
     "text": [
      "['Sheila', 'Andrea', 'Tiago']\n",
      "Hey Sheila, I just found a new and bigger table for all of us, I'll send a new invite and also I'll call more friends\n",
      "Hey Andrea, I just found a new and bigger table for all of us, I'll send a new invite and also I'll call more friends\n",
      "Hey Tiago, I just found a new and bigger table for all of us, I'll send a new invite and also I'll call more friends\n"
     ]
    }
   ],
   "source": [
    "print(guest_list)\n",
    "print(f\"Hey {guest_list[0].title()}, I just found a new and bigger table for all of us, I'll send a new invite and also I'll call more friends\")\n",
    "print(f\"Hey {guest_list[1].title()}, I just found a new and bigger table for all of us, I'll send a new invite and also I'll call more friends\")\n",
    "print(f\"Hey {guest_list[2].title()}, I just found a new and bigger table for all of us, I'll send a new invite and also I'll call more friends\")"
   ]
  },
  {
   "cell_type": "code",
   "execution_count": 7,
   "metadata": {},
   "outputs": [],
   "source": [
    "guest_list.insert(0,\"Marciano\")\n",
    "guest_list.insert(1,\"Guilherme\")\n",
    "guest_list.append(\"Ana Paula\")"
   ]
  },
  {
   "cell_type": "code",
   "execution_count": 8,
   "metadata": {},
   "outputs": [
    {
     "name": "stdout",
     "output_type": "stream",
     "text": [
      "['Marciano', 'Guilherme', 'Sheila', 'Andrea', 'Tiago', 'Ana Paula']\n"
     ]
    }
   ],
   "source": [
    "print(guest_list)"
   ]
  },
  {
   "cell_type": "raw",
   "metadata": {},
   "source": [
    "#3-7. Shrinking Guest List: You just found out that your new dinner table won’t\n",
    "arrive in time for the dinner, and you have space for only two guests.\n",
    "• Start with your program from Exercise 3-6. Add a new line that prints a\n",
    "message saying that you can invite only two people for dinner.\n",
    "• Use pop() to remove guests from your list one at a time until only two\n",
    "names remain in your list. Each time you pop a name from your list, print\n",
    "a message to that person letting them know you’re sorry you can’t invite\n",
    "them to dinner.\n",
    "• Print a message to each of the two people still on your list, letting them\n",
    "know they’re still invited.\n",
    "• Use del to remove the last two names from your list, so you have an empty\n",
    "list. Print your list to make sure you actually have an empty list at the end\n",
    "of your program.\n"
   ]
  },
  {
   "cell_type": "code",
   "execution_count": 9,
   "metadata": {},
   "outputs": [
    {
     "name": "stdout",
     "output_type": "stream",
     "text": [
      "Now I can invite just 2 people\n",
      "['Guilherme', 'Sheila', 'Andrea', 'Tiago', 'Ana Paula']\n",
      "['Guilherme', 'Andrea', 'Tiago', 'Ana Paula']\n",
      "['Guilherme', 'Tiago', 'Ana Paula']\n",
      "['Guilherme', 'Ana Paula']\n",
      "I'm sorry Marciano but I have to decline my invite, I just can invite 2 people, I'm so sorry next time I'll call you\n",
      "I'm sorry Sheila but I have to decline my invite, I just can invite 2 people, I'm so sorry next time I'll call you\n",
      "I'm sorry Andrea but I have to decline my invite, I just can invite 2 people, I'm so sorry next time I'll call you\n",
      "I'm sorry Tiago but I have to decline my invite, I just can invite 2 people, I'm so sorry next time I'll call you\n",
      "Hey Guilherme you still in my list for dinner I'll be waiting for you\n",
      "Hey Ana Paula you still in my list for dinner I'll be waiting for you\n"
     ]
    }
   ],
   "source": [
    "print(\"Now I can invite just 2 people\")\n",
    "sorry0=guest_list.pop(0)\n",
    "print(guest_list)\n",
    "\n",
    "sorry2=guest_list.pop(1)\n",
    "print(guest_list)\n",
    "\n",
    "sorry3=guest_list.pop(1)\n",
    "print(guest_list)\n",
    "\n",
    "sorry4=guest_list.pop(1)\n",
    "print(guest_list)\n",
    "\n",
    "print(f\"I'm sorry {sorry0.title()} but I have to decline my invite, I just can invite 2 people, I'm so sorry next time I'll call you\")\n",
    "print(f\"I'm sorry {sorry2.title()} but I have to decline my invite, I just can invite 2 people, I'm so sorry next time I'll call you\")\n",
    "print(f\"I'm sorry {sorry3.title()} but I have to decline my invite, I just can invite 2 people, I'm so sorry next time I'll call you\")\n",
    "print(f\"I'm sorry {sorry4.title()} but I have to decline my invite, I just can invite 2 people, I'm so sorry next time I'll call you\")\n",
    "print(f\"Hey {guest_list[0]} you still in my list for dinner I'll be waiting for you\")\n",
    "print(f\"Hey {guest_list[1]} you still in my list for dinner I'll be waiting for you\")\n"
   ]
  },
  {
   "cell_type": "code",
   "execution_count": null,
   "metadata": {},
   "outputs": [],
   "source": []
  },
  {
   "cell_type": "code",
   "execution_count": null,
   "metadata": {},
   "outputs": [],
   "source": []
  }
 ],
 "metadata": {
  "kernelspec": {
   "display_name": "Python 3",
   "language": "python",
   "name": "python3"
  },
  "language_info": {
   "codemirror_mode": {
    "name": "ipython",
    "version": 3
   },
   "file_extension": ".py",
   "mimetype": "text/x-python",
   "name": "python",
   "nbconvert_exporter": "python",
   "pygments_lexer": "ipython3",
   "version": "3.7.6"
  }
 },
 "nbformat": 4,
 "nbformat_minor": 4
}
