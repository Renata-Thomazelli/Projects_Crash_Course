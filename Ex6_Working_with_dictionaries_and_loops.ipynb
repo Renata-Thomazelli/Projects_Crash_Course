{
 "cells": [
  {
   "cell_type": "markdown",
   "metadata": {},
   "source": [
    "## Exercicies"
   ]
  },
  {
   "cell_type": "markdown",
   "metadata": {},
   "source": [
    ">### Here you will see:\n",
    ">>* How to access and modify individual elements in a dictionary.\n",
    ">>* How to loop through all of the information in a dictionary. \n",
    ">>>* How to loop through a dictionary’s:\n",
    ">>>>__key-value pairs__, \n",
    ">>>>__its keys__, \n",
    ">>>>__and its values__. \n",
    "\n",
    ">> Nesting multiple __dictionaries in a list, nest lists in a dictionary, and nest a dictionary inside\n",
    "a dictionary__.\n",
    ">>> And also how to access each information of the list and dictionaries nested in each other through a loop.\n",
    "\n",
    "I took this exercises from the book __\"Python Crash A Hands_on to Programming\"__."
   ]
  },
  {
   "cell_type": "code",
   "execution_count": 1,
   "metadata": {},
   "outputs": [
    {
     "name": "stdout",
     "output_type": "stream",
     "text": [
      "green\n",
      "5\n"
     ]
    }
   ],
   "source": [
    "alien_0={\"color\":\"green\",\"points\":5}\n",
    "\n",
    "print(alien_0 [\"color\"])\n",
    "print(alien_0 [\"points\"])"
   ]
  },
  {
   "cell_type": "code",
   "execution_count": 3,
   "metadata": {},
   "outputs": [
    {
     "name": "stdout",
     "output_type": "stream",
     "text": [
      "You just earned 5 points!\n"
     ]
    }
   ],
   "source": [
    "new_points = alien_0[\"points\"]\n",
    "print(f\"You just earned {new_points} points!\")"
   ]
  },
  {
   "cell_type": "code",
   "execution_count": 4,
   "metadata": {},
   "outputs": [
    {
     "name": "stdout",
     "output_type": "stream",
     "text": [
      "{'color': 'green', 'points': 5}\n",
      "{'color': 'green', 'points': 5, 'x_position': 0, 'y_position': 25}\n"
     ]
    }
   ],
   "source": [
    "print(alien_0)\n",
    "alien_0[\"x_position\"]=0\n",
    "alien_0[\"y_position\"]=25\n",
    "print(alien_0)"
   ]
  },
  {
   "cell_type": "code",
   "execution_count": 5,
   "metadata": {},
   "outputs": [
    {
     "name": "stdout",
     "output_type": "stream",
     "text": [
      "{'color': 'green', 'points': 5}\n"
     ]
    }
   ],
   "source": [
    "#starting with a empty dictionary\n",
    "\n",
    "alien_0={}\n",
    "    \n",
    "alien_0[\"color\"]='green'\n",
    "alien_0[\"points\"]=5\n",
    "\n",
    "print(alien_0)\n"
   ]
  },
  {
   "cell_type": "code",
   "execution_count": 2,
   "metadata": {},
   "outputs": [
    {
     "name": "stdout",
     "output_type": "stream",
     "text": [
      "The Alien is green.\n",
      "The Alien is now yellow.\n"
     ]
    }
   ],
   "source": [
    "alien_0  = {\"color\":\"green\"}\n",
    "print(f\"The Alien is {alien_0['color']}.\")\n",
    "\n",
    "alien_0[\"color\"]=\"yellow\"\n",
    "print(f\"The Alien is now {alien_0['color']}.\")\n",
    "\n"
   ]
  },
  {
   "cell_type": "code",
   "execution_count": 8,
   "metadata": {},
   "outputs": [
    {
     "name": "stdout",
     "output_type": "stream",
     "text": [
      "Original position: 0.\n",
      "New position: 2.\n"
     ]
    }
   ],
   "source": [
    "alien_0={'x_position':0, 'y_position':25,'speed':'medium'}\n",
    "print(f\"Original position: {alien_0['x_position']}.\")\n",
    "\n",
    "#Move the alien to the right\n",
    "#Determine how far to move  the alien on its current speed.\n",
    "\n",
    "if alien_0['speed']=='slow':\n",
    "    x_increment=1\n",
    "elif alien_0['speed']==\"medium\":\n",
    "    x_increment=2\n",
    "else:\n",
    "    # This must be a fast alien\n",
    "    x_increment=3\n",
    "    \n",
    "    \n",
    "# The new position is the old position plus the increment\n",
    "\n",
    "alien_0['x_position']=alien_0['x_position']+x_increment\n",
    "\n",
    "print(f\"New position: {alien_0['x_position']}.\")"
   ]
  },
  {
   "cell_type": "code",
   "execution_count": 9,
   "metadata": {},
   "outputs": [
    {
     "name": "stdout",
     "output_type": "stream",
     "text": [
      "Original position: 0.\n",
      "New position: 3.\n"
     ]
    }
   ],
   "source": [
    "alien_0={'x_position':0, 'y_position':25,'speed':'medium'}\n",
    "alien_0['speed']=\"fast\"\n",
    "print(f\"Original position: {alien_0['x_position']}.\")\n",
    "\n",
    "#Move the alien to the right\n",
    "#Determine how far to move  the alien on its current speed.\n",
    "\n",
    "if alien_0['speed']=='slow':\n",
    "    x_increment=1\n",
    "elif alien_0['speed']==\"medium\":\n",
    "    x_increment=2\n",
    "else:\n",
    "    # This must be a fast alien\n",
    "    x_increment=3\n",
    "    \n",
    "    \n",
    "# The new position is the old position plus the increment\n",
    "\n",
    "alien_0['x_position']=alien_0['x_position']+x_increment\n",
    "\n",
    "print(f\"New position: {alien_0['x_position']}.\")"
   ]
  },
  {
   "cell_type": "markdown",
   "metadata": {},
   "source": [
    "### we stopped at the page 96 removing Key_Value Pairs"
   ]
  },
  {
   "cell_type": "markdown",
   "metadata": {},
   "source": [
    "Removing Key value pairs\n"
   ]
  },
  {
   "cell_type": "code",
   "execution_count": 5,
   "metadata": {},
   "outputs": [
    {
     "name": "stdout",
     "output_type": "stream",
     "text": [
      "{'color': 'green', 'points': 5}\n",
      "{'color': 'green'}\n"
     ]
    }
   ],
   "source": [
    "alien_0={'color':\"green\",'points':5}\n",
    "print(alien_0)\n",
    "\n",
    "del alien_0 ['points']\n",
    "print(alien_0)"
   ]
  },
  {
   "cell_type": "markdown",
   "metadata": {},
   "source": [
    "## A Dictionary of similar objects"
   ]
  },
  {
   "cell_type": "code",
   "execution_count": 7,
   "metadata": {},
   "outputs": [],
   "source": [
    "favorite_languages ={\n",
    "    'jen':'python',\n",
    "    'sarah':'c',\n",
    "    'edward':'ruby',\n",
    "    'phil':'python',\n",
    "}"
   ]
  },
  {
   "cell_type": "code",
   "execution_count": 9,
   "metadata": {},
   "outputs": [
    {
     "name": "stdout",
     "output_type": "stream",
     "text": [
      "Sara's favorite language is C.\n"
     ]
    }
   ],
   "source": [
    "language=favorite_languages['sarah'].title()\n",
    "print(f\"Sara's favorite language is {language}.\")"
   ]
  },
  {
   "cell_type": "markdown",
   "metadata": {},
   "source": [
    "## Using Get() to access values"
   ]
  },
  {
   "cell_type": "code",
   "execution_count": 10,
   "metadata": {},
   "outputs": [
    {
     "ename": "KeyError",
     "evalue": "'points'",
     "output_type": "error",
     "traceback": [
      "\u001b[1;31m---------------------------------------------------------------------------\u001b[0m",
      "\u001b[1;31mKeyError\u001b[0m                                  Traceback (most recent call last)",
      "\u001b[1;32m<ipython-input-10-f9506f392857>\u001b[0m in \u001b[0;36m<module>\u001b[1;34m\u001b[0m\n\u001b[0;32m      1\u001b[0m \u001b[0malien_0\u001b[0m\u001b[1;33m=\u001b[0m\u001b[1;33m{\u001b[0m\u001b[1;34m'color'\u001b[0m\u001b[1;33m:\u001b[0m\u001b[1;34m'green'\u001b[0m\u001b[1;33m,\u001b[0m\u001b[1;34m'speed'\u001b[0m\u001b[1;33m:\u001b[0m\u001b[1;34m'slow'\u001b[0m\u001b[1;33m}\u001b[0m\u001b[1;33m\u001b[0m\u001b[1;33m\u001b[0m\u001b[0m\n\u001b[1;32m----> 2\u001b[1;33m \u001b[0mprint\u001b[0m\u001b[1;33m(\u001b[0m\u001b[0malien_0\u001b[0m\u001b[1;33m[\u001b[0m\u001b[1;34m'points'\u001b[0m\u001b[1;33m]\u001b[0m\u001b[1;33m)\u001b[0m\u001b[1;33m\u001b[0m\u001b[1;33m\u001b[0m\u001b[0m\n\u001b[0m",
      "\u001b[1;31mKeyError\u001b[0m: 'points'"
     ]
    }
   ],
   "source": [
    "alien_0={'color':'green','speed':'slow'}\n",
    "print(alien_0['points'])"
   ]
  },
  {
   "cell_type": "code",
   "execution_count": 12,
   "metadata": {},
   "outputs": [
    {
     "name": "stdout",
     "output_type": "stream",
     "text": [
      "No point value assined.\n"
     ]
    }
   ],
   "source": [
    "alien_0={'color':'green','speed':'slow'}\n",
    "\n",
    "\n",
    "point_value=alien_0.get('points','No point value assined.')\n",
    "print(point_value)"
   ]
  },
  {
   "cell_type": "markdown",
   "metadata": {},
   "source": [
    "## Try it yourself"
   ]
  },
  {
   "cell_type": "markdown",
   "metadata": {},
   "source": [
    "__6-1. Person:__ Use a dictionary to store information about a person you know.  \n",
    "Store their first name, last name, age, and the city in which they live. You  \n",
    "should have keys such as first_name, last_name, age, and city. Print each  \n",
    "piece of information stored in your dictionary.  "
   ]
  },
  {
   "cell_type": "code",
   "execution_count": 24,
   "metadata": {},
   "outputs": [
    {
     "name": "stdout",
     "output_type": "stream",
     "text": [
      "His first name is GUILHERME\n",
      "Thomazelli\n",
      "39\n",
      "sao paulo\n"
     ]
    }
   ],
   "source": [
    "Guilherme_information ={\"first_name\":\"Guilherme\",\"last_name\":\"Thomazelli\",\"age\":39,\"city\":\"sao paulo\"}\n",
    "\n",
    "print(f\"His first name is {Guilherme_information['first_name'].upper()}\")\n",
    "      \n",
    "print(Guilherme_information['last_name'])\n",
    "print(Guilherme_information['age'])\n",
    "print(Guilherme_information['city'])"
   ]
  },
  {
   "cell_type": "markdown",
   "metadata": {},
   "source": [
    "__6-2. Favorite Numbers:__ Use a dictionary to store people’s favorite numbers.  \n",
    "Think of five names, and use them as keys in your dictionary. Think of a favorite  \n",
    "number for each person, and store each as a value in your dictionary. Print  \n",
    "each person’s name and their favorite number. For even more fun, poll a few  \n",
    "friends and get some actual data for your program.  "
   ]
  },
  {
   "cell_type": "code",
   "execution_count": 29,
   "metadata": {},
   "outputs": [
    {
     "name": "stdout",
     "output_type": "stream",
     "text": [
      "My friend Sara likes the number {friends_numbers['sara']}.\n",
      "Sara changed her favorite number to5.\n"
     ]
    }
   ],
   "source": [
    "friends_numbers={'sara':1,\"john\":2,\"israel\":3}\n",
    "print(\"My friend Sara likes the number {friends_numbers['sara']}.\")\n",
    "friends_numbers['sara']=5\n",
    "print(f\"Sara changed her favorite number to{friends_numbers['sara']}.\")"
   ]
  },
  {
   "cell_type": "markdown",
   "metadata": {},
   "source": [
    "__6-3. Glossary:__ A Python dictionary can be used to model an actual dictionary.  \n",
    "However, to avoid confusion, let’s call it a glossary.  \n",
    "• Think of five programming words you’ve learned about in the previous  \n",
    "chapters. Use these words as the keys in your glossary, and store their  \n",
    "meanings as values.  \n",
    "• Print each word and its meaning as neatly formatted output. You might  \n",
    "print the word followed by a colon and then its meaning, or print the word  \n",
    "on one line and then print its meaning indented on a second line. Use the  \n",
    "newline character (\\n) to insert a blank line between each word-meaning  \n",
    "pair in your output.  "
   ]
  },
  {
   "cell_type": "code",
   "execution_count": 51,
   "metadata": {},
   "outputs": [
    {
     "name": "stdout",
     "output_type": "stream",
     "text": [
      "Word the day DARG meanings:\n",
      "Day Of Work. \n",
      "\n",
      "Word the day POLYGLOT meanings:\n",
      "A Person Who Speaks, Writes, Or Reads A Number Of Languages.. \n",
      "\n",
      "Word the day FRUMIOUS meanings:\n",
      "Very Angry.. \n",
      "\n",
      "Word the day ZEUGMA meanings:\n",
      "He Use Of A Word To Modify Or Govern Two Or More Words When    It Is Appropriate To Only One Of Them Or Is Appropriate To Each But In A     Different Way, As In On His Fishing Trip, He Caught Three Trout And A Cold.. \n",
      "\n",
      "Word the day DECUSSATE meanings:\n",
      "To Cross In The Form Of An X; Intersect.. \n",
      "\n"
     ]
    }
   ],
   "source": [
    "glossary={\n",
    "    'darg':\"day of work\",\n",
    "    'polyglot':\"a person who speaks, writes, or reads a number of languages.\",\n",
    "    'frumious':\"very angry.\",\n",
    "    'zeugma':\"he use of a word to modify or govern two or more words when\\\n",
    "    it is appropriate to only one of them or is appropriate to each but in a \\\n",
    "    different way, as in On his fishing trip, he caught three trout and a cold.\",\n",
    "    'decussate':'to cross in the form of an X; intersect.',\n",
    "\n",
    "}\n",
    "\n",
    "\n",
    "\n",
    "for k,v in glossary.items():\n",
    "    print(f\"Word the day {k.upper()} meanings:\\n{v.title()}. \\n\")"
   ]
  },
  {
   "cell_type": "markdown",
   "metadata": {},
   "source": [
    "## Looping thought all Key_Values Pairs"
   ]
  },
  {
   "cell_type": "code",
   "execution_count": 60,
   "metadata": {},
   "outputs": [
    {
     "name": "stdout",
     "output_type": "stream",
     "text": [
      "\n",
      "Key username\n",
      "Value efermi\n",
      "\n",
      "Key first\n",
      "Value enrico\n",
      "\n",
      "Key last\n",
      "Value fermi\n"
     ]
    }
   ],
   "source": [
    "user_0={\n",
    "    'username':'efermi',\n",
    "    'first':'enrico',\n",
    "    'last':'fermi',\n",
    "}\n",
    "\n",
    "for Key, Value in user_0.items():\n",
    "    print(f\"\\nKey {Key}\")\n",
    "    print(f\"Value {Value}\")"
   ]
  },
  {
   "cell_type": "code",
   "execution_count": 66,
   "metadata": {},
   "outputs": [
    {
     "name": "stdout",
     "output_type": "stream",
     "text": [
      "Jen's favorite languague is PYTHON.\n",
      "Sarah's favorite languague is C.\n",
      "Edward's favorite languague is RUBY.\n",
      "Phil's favorite languague is PYTHON.\n"
     ]
    }
   ],
   "source": [
    "favorite_languages ={\n",
    "    'jen':'python',\n",
    "    'sarah':'c',\n",
    "    'edward':'ruby',\n",
    "    'phil':'python',\n",
    "}\n",
    "\n",
    "for name, language in favorite_languages.items():\n",
    "    print(f\"{name.title()}'s favorite languague is {language.upper()}.\")\n",
    "    "
   ]
  },
  {
   "cell_type": "markdown",
   "metadata": {},
   "source": [
    "## Looping Through All the Keys in a Dictionary"
   ]
  },
  {
   "cell_type": "code",
   "execution_count": 67,
   "metadata": {},
   "outputs": [
    {
     "name": "stdout",
     "output_type": "stream",
     "text": [
      "Jen\n",
      "Sarah\n",
      "Edward\n",
      "Phil\n"
     ]
    }
   ],
   "source": [
    "favorite_languages ={\n",
    "    'jen':'python',\n",
    "    'sarah':'c',\n",
    "    'edward':'ruby',\n",
    "    'phil':'python',\n",
    "}\n",
    "for name in favorite_languages.keys():\n",
    "    print(name.title())"
   ]
  },
  {
   "cell_type": "code",
   "execution_count": 68,
   "metadata": {},
   "outputs": [
    {
     "name": "stdout",
     "output_type": "stream",
     "text": [
      "Jen\n",
      "Sarah\n",
      "Edward\n",
      "Phil\n"
     ]
    }
   ],
   "source": [
    "# I also couls simplify it with taking out the Key because this is the default behavior of a dictionary:\n",
    "\n",
    "favorite_languages ={\n",
    "    'jen':'python',\n",
    "    'sarah':'c',\n",
    "    'edward':'ruby',\n",
    "    'phil':'python',\n",
    "}\n",
    "for name in favorite_languages:\n",
    "    print(name.title())"
   ]
  },
  {
   "cell_type": "code",
   "execution_count": 73,
   "metadata": {},
   "outputs": [
    {
     "name": "stdout",
     "output_type": "stream",
     "text": [
      "Jen\n",
      "Sarah\n",
      "\tSarah,I see you love C!\n",
      "Edward\n",
      "Phil\n",
      "\tPhil,I see you love Python!\n"
     ]
    }
   ],
   "source": [
    "friends=['phil','sarah']\n",
    "for name in favorite_languages.keys():\n",
    "    print(name.title())\n",
    "    \n",
    "    if name in friends:\n",
    "        language=favorite_languages[name].title()\n",
    "        print(f\"\\t{name.title()},I see you love {language}!\")"
   ]
  },
  {
   "cell_type": "code",
   "execution_count": 74,
   "metadata": {},
   "outputs": [
    {
     "name": "stdout",
     "output_type": "stream",
     "text": [
      " Erin, please take out poll!\n"
     ]
    }
   ],
   "source": [
    "if 'erin' not in favorite_languages.keys():\n",
    "    print(f\" Erin, please take out poll!\")"
   ]
  },
  {
   "cell_type": "markdown",
   "metadata": {},
   "source": [
    "### Looping through a Dictionary's Key in a Particular Order"
   ]
  },
  {
   "cell_type": "code",
   "execution_count": 79,
   "metadata": {},
   "outputs": [
    {
     "name": "stdout",
     "output_type": "stream",
     "text": [
      "Edward, thank you for taking the poll.\n",
      "Jen, thank you for taking the poll.\n",
      "Phil, thank you for taking the poll.\n",
      "Sarah, thank you for taking the poll.\n"
     ]
    }
   ],
   "source": [
    "favorite_languages ={\n",
    "    'jen':'python',\n",
    "    'sarah':'c',\n",
    "    'edward':'ruby',\n",
    "    'phil':'python',\n",
    "}\n",
    "\n",
    "for name in sorted(favorite_languages.keys()):\n",
    "    print(f\"{name.title()}, thank you for taking the poll.\")"
   ]
  },
  {
   "cell_type": "code",
   "execution_count": 80,
   "metadata": {},
   "outputs": [
    {
     "name": "stdout",
     "output_type": "stream",
     "text": [
      "The following languages have been mentioned:\n",
      "C\n",
      "Python\n",
      "Python\n",
      "Ruby\n"
     ]
    }
   ],
   "source": [
    "favorite_languages ={\n",
    "    'jen':'python',\n",
    "    'sarah':'c',\n",
    "    'edward':'ruby',\n",
    "    'phil':'python',\n",
    "}\n",
    "\n",
    "print(\"The following languages have been mentioned:\")\n",
    "for language in sorted(favorite_languages.values()):\n",
    "    print(language.title())"
   ]
  },
  {
   "cell_type": "code",
   "execution_count": 84,
   "metadata": {},
   "outputs": [
    {
     "name": "stdout",
     "output_type": "stream",
     "text": [
      "The following languages have been mentioned:\n",
      "Ruby\n",
      "C\n",
      "Python\n"
     ]
    }
   ],
   "source": [
    "# Let's use a set. A set is a collection in which each item is unique.\n",
    "\n",
    "favorite_languages ={\n",
    "    'jen':'python',\n",
    "    'sarah':'c',\n",
    "    'edward':'ruby',\n",
    "    'phil':'python',\n",
    "}\n",
    "\n",
    "print(\"The following languages have been mentioned:\")\n",
    "for language in set(favorite_languages.values()):\n",
    "    print(language.title())"
   ]
  },
  {
   "cell_type": "code",
   "execution_count": 85,
   "metadata": {},
   "outputs": [
    {
     "data": {
      "text/plain": [
       "{'C', 'python', 'ruby'}"
      ]
     },
     "execution_count": 85,
     "metadata": {},
     "output_type": "execute_result"
    }
   ],
   "source": [
    "#set\n",
    "#As you continue learning about Python, you’ll often find a built-in fea-\n",
    "#ture of the language that helps you do exactly what you want with your data.\n",
    "\n",
    "\n",
    "#It’s easy to mistake sets for dictionaries because they’re both wrapped in braces.\n",
    "#When you see braces but no key-value pairs, you’re probably looking at a set. Unlike\n",
    "#lists and dictionaries, sets do not retain items in any specific order.\n",
    "#Note You can build a set directly using braces and separating the elements with commas:\n",
    "\n",
    "language={'python',\"C\",\"ruby\"}\n",
    "language"
   ]
  },
  {
   "cell_type": "markdown",
   "metadata": {},
   "source": [
    "__6-5. Rivers:__ Make a dictionary containing three major rivers and the country  \n",
    "each river runs through. One key-value pair might be 'nile': 'egypt'.  \n",
    "• Use a loop to print a sentence about each river, such as The Nile runs  \n",
    "through Egypt.  \n",
    "• Use a loop to print the name of each river included in the dictionary.  \n",
    "• Use a loop to print the name of each country included in the dictionary.  "
   ]
  },
  {
   "cell_type": "code",
   "execution_count": 87,
   "metadata": {},
   "outputs": [],
   "source": [
    "rivers={\"amazon\":\"brazil\",\"yangtze\":\"china\",\"mississippi\":\"united states\",\"yenisei\":\"russia\"}"
   ]
  },
  {
   "cell_type": "code",
   "execution_count": 90,
   "metadata": {},
   "outputs": [
    {
     "name": "stdout",
     "output_type": "stream",
     "text": [
      "The Amazon runs Brazil.\n",
      "The Yangtze runs China.\n",
      "The Mississippi runs United States.\n",
      "The Yenisei runs Russia.\n"
     ]
    }
   ],
   "source": [
    "for river, country in rivers.items():\n",
    "    print(f\"The {river.title()} runs {country.title()}.\")\n"
   ]
  },
  {
   "cell_type": "code",
   "execution_count": 91,
   "metadata": {},
   "outputs": [
    {
     "name": "stdout",
     "output_type": "stream",
     "text": [
      "Amazon\n",
      "Yangtze\n",
      "Mississippi\n",
      "Yenisei\n"
     ]
    }
   ],
   "source": [
    "for river in rivers.keys():\n",
    "    print(river.title())"
   ]
  },
  {
   "cell_type": "code",
   "execution_count": 92,
   "metadata": {},
   "outputs": [
    {
     "name": "stdout",
     "output_type": "stream",
     "text": [
      "Brazil\n",
      "China\n",
      "United States\n",
      "Russia\n"
     ]
    }
   ],
   "source": [
    "for country in rivers.values():\n",
    "    print(country.title())"
   ]
  },
  {
   "cell_type": "markdown",
   "metadata": {},
   "source": [
    "__6-6. Polling:__ Use the code in favorite_languages.py (page 97).  \n",
    "• Make a list of people who should take the favorite languages poll. Include  \n",
    "some names that are already in the dictionary and some that are not.  \n",
    "• Loop through the list of people who should take the poll. If they have  \n",
    "already taken the poll, print a message thanking them for responding.  \n",
    "If they have not yet taken the poll, print a message inviting them to take  \n",
    "the poll.  "
   ]
  },
  {
   "cell_type": "code",
   "execution_count": 95,
   "metadata": {},
   "outputs": [
    {
     "name": "stdout",
     "output_type": "stream",
     "text": [
      "Andreia come and take to our poll.\n",
      "Alex come and take to our poll.\n",
      "Sarah thank you for taking our poll.\n",
      "Edward thank you for taking our poll.\n",
      "Phil thank you for taking our poll.\n"
     ]
    }
   ],
   "source": [
    "favorite_languages ={\n",
    "    'jen':'python',\n",
    "    'sarah':'c',\n",
    "    'edward':'ruby',\n",
    "    'phil':'python',\n",
    "}\n",
    "\n",
    "people_list=[\"andreia\",\"alex\",\"sarah\",\"edward\",\"phil\"]\n",
    "\n",
    "for people in people_list:\n",
    "    if people in favorite_languages.keys():\n",
    "        print(f\"{people.title()} thank you for taking our poll.\")\n",
    "        \n",
    "    else:\n",
    "        print(f\"{people.title()} come and take to our poll.\")\n",
    "\n",
    "        "
   ]
  },
  {
   "cell_type": "markdown",
   "metadata": {},
   "source": [
    "## Nesting\n",
    "page 105"
   ]
  },
  {
   "cell_type": "code",
   "execution_count": 1,
   "metadata": {},
   "outputs": [
    {
     "name": "stdout",
     "output_type": "stream",
     "text": [
      "{'color': 'green', 'points': 5}\n",
      "{'color': 'yellow', 'points': 10}\n",
      "{'color': 'red', 'points': 15}\n"
     ]
    }
   ],
   "source": [
    "alien_0={'color':'green','points':5}\n",
    "alien_1={'color':'yellow','points':10}\n",
    "alien_2={'color':'red','points':15}\n",
    "\n",
    "alien=[alien_0, alien_1, alien_2]\n",
    "\n",
    "for alien in alien:\n",
    "    print(alien)\n",
    "    "
   ]
  },
  {
   "cell_type": "code",
   "execution_count": 4,
   "metadata": {},
   "outputs": [
    {
     "name": "stdout",
     "output_type": "stream",
     "text": [
      "{'color': 'green', 'points': 5, 'speed': 'slow'}\n",
      "{'color': 'green', 'points': 5, 'speed': 'slow'}\n",
      "{'color': 'green', 'points': 5, 'speed': 'slow'}\n",
      "{'color': 'green', 'points': 5, 'speed': 'slow'}\n",
      "{'color': 'green', 'points': 5, 'speed': 'slow'}\n",
      "...\n",
      "Total number of aliens:30.\n"
     ]
    }
   ],
   "source": [
    "#make an empty list to storing aliens.\n",
    "\n",
    "aliens=[]\n",
    "\n",
    "#make 30 green aliens\n",
    "\n",
    "for alien_number in range(30):\n",
    "    new_alien={'color':'green','points':5, 'speed':'slow'}\n",
    "    aliens.append(new_alien)\n",
    "    \n",
    "#the the first 5 aliens\n",
    "\n",
    "for alien in aliens[:5]:\n",
    "    print(alien)\n",
    "print(\"...\")\n",
    "\n",
    "#show how many alien have been created\n",
    "\n",
    "print(f\"Total number of aliens:{len(aliens)}.\")"
   ]
  },
  {
   "cell_type": "code",
   "execution_count": 6,
   "metadata": {},
   "outputs": [
    {
     "name": "stdout",
     "output_type": "stream",
     "text": [
      "{'color': 'yellow', 'points': 10, 'speed': 'medium'}\n",
      "{'color': 'yellow', 'points': 10, 'speed': 'medium'}\n",
      "{'color': 'yellow', 'points': 10, 'speed': 'medium'}\n",
      "{'color': 'green', 'points': 5, 'speed': 'slow'}\n",
      "{'color': 'green', 'points': 5, 'speed': 'slow'}\n",
      "...\n",
      "Total number of aliens:30.\n"
     ]
    }
   ],
   "source": [
    "#make an empty list to storing aliens.\n",
    "\n",
    "aliens=[]\n",
    "\n",
    "#make 30 green aliens\n",
    "\n",
    "for alien_number in range(30):\n",
    "    new_alien={'color':'green','points':5, 'speed':'slow'}\n",
    "    aliens.append(new_alien)\n",
    "    \n",
    "for alien in aliens[:3]:\n",
    "    if alien['color']==\"green\":\n",
    "        alien['color']=\"yellow\"\n",
    "        alien['points']=10\n",
    "        alien['speed']='medium'\n",
    "    \n",
    "\n",
    "    \n",
    "    \n",
    "#the the first 5 aliens\n",
    "\n",
    "for alien in aliens[:5]:\n",
    "    print(alien)\n",
    "print(\"...\")\n",
    "\n",
    "#show how many alien have been created\n",
    "\n",
    "print(f\"Total number of aliens:{len(aliens)}.\")"
   ]
  },
  {
   "cell_type": "code",
   "execution_count": 6,
   "metadata": {},
   "outputs": [
    {
     "name": "stdout",
     "output_type": "stream",
     "text": [
      "{'color': 'yellow', 'points': 10, 'speed': 'medium'}\n",
      "{'color': 'yellow', 'points': 10, 'speed': 'medium'}\n",
      "{'color': 'yellow', 'points': 10, 'speed': 'medium'}\n",
      "{'color': 'green', 'points': 5, 'speed': 'slow'}\n",
      "{'color': 'green', 'points': 5, 'speed': 'slow'}\n",
      "...\n",
      "Total number of aliens:30.\n"
     ]
    }
   ],
   "source": [
    "#make an empty list to storing aliens.\n",
    "\n",
    "aliens=[]\n",
    "\n",
    "#make 30 green aliens\n",
    "\n",
    "for alien_number in range(30):\n",
    "    new_alien={'color':'green','points':5, 'speed':'slow'}\n",
    "    aliens.append(new_alien)\n",
    "    \n",
    "for alien in aliens[:3]:\n",
    "    if alien['color']==\"green\":\n",
    "        alien['color']=\"yellow\"\n",
    "        alien['points']=10\n",
    "        alien['speed']='medium'\n",
    "    elif alien['color']=='yellow':\n",
    "        alien['color']='red'\n",
    "        alien['spped']='fast'\n",
    "        alien['points']=15\n",
    "        \n",
    "    \n",
    "\n",
    "    \n",
    "    \n",
    "#the the first 5 aliens\n",
    "\n",
    "for alien in aliens[:5]:\n",
    "    print(alien)\n",
    "print(\"...\")\n",
    "\n",
    "#show how many alien have been created\n",
    "\n",
    "print(f\"Total number of aliens:{len(aliens)}.\")"
   ]
  },
  {
   "cell_type": "markdown",
   "metadata": {},
   "source": [
    "we stooped at the page 108"
   ]
  },
  {
   "cell_type": "markdown",
   "metadata": {},
   "source": [
    "### A list in a dictionary"
   ]
  },
  {
   "cell_type": "code",
   "execution_count": 6,
   "metadata": {},
   "outputs": [
    {
     "name": "stdout",
     "output_type": "stream",
     "text": [
      "If you ordered a thick-crust pizza with the following toppings:\n",
      "\tmushrroms\n",
      "\textra cheese\n"
     ]
    }
   ],
   "source": [
    "#Store information about a pizza being ordered.\n",
    "\n",
    "pizza = {\n",
    "    'crust':'thick',\n",
    "    'toppings':['mushrroms','extra cheese'],\n",
    "}\n",
    "\n",
    "#summarize the order.\n",
    "\n",
    "print(f\"If you ordered a {pizza['crust']}-crust pizza \"\n",
    "      \"with the following toppings:\")\n",
    "\n",
    "for topping in pizza['toppings']:\n",
    "    print(\"\\t\" + topping)"
   ]
  },
  {
   "cell_type": "code",
   "execution_count": 8,
   "metadata": {},
   "outputs": [
    {
     "name": "stdout",
     "output_type": "stream",
     "text": [
      "\n",
      "Jen's favorite languages are:\n",
      "\tPython\n",
      "\tRuby\n",
      "\n",
      "Sarah's favorite languages are:\n",
      "\tC\n",
      "\n",
      "Edward's favorite languages are:\n",
      "\tRuby\n",
      "\tGo\n",
      "\n",
      "Phil's favorite languages are:\n",
      "\tPython\n",
      "\tHaskell\n"
     ]
    }
   ],
   "source": [
    "favorite_languages ={\n",
    "    'jen':['python','ruby'],\n",
    "    'sarah':['c'],\n",
    "    'edward':['ruby','go'],\n",
    "    'phil':['python','haskell'],\n",
    "}\n",
    "\n",
    "for name, languages in favorite_languages.items():\n",
    "    print(f\"\\n{name.title()}'s favorite languages are:\")\n",
    "    for language in languages:\n",
    "        print(f\"\\t{language.title()}\")\n"
   ]
  },
  {
   "cell_type": "code",
   "execution_count": 12,
   "metadata": {},
   "outputs": [
    {
     "name": "stdout",
     "output_type": "stream",
     "text": [
      "\n",
      "Jen's favorite languages are:\n",
      "\tPython\n",
      "\tRuby\n",
      "\n",
      "Sarah's'favorite language is:\n",
      "\tC\n",
      "\n",
      "Edward's favorite languages are:\n",
      "\tRuby\n",
      "\tGo\n",
      "\n",
      "Phil's favorite languages are:\n",
      "\tPython\n",
      "\tHaskell\n"
     ]
    }
   ],
   "source": [
    "favorite_languages ={\n",
    "    'jen':['python','ruby'],\n",
    "    'sarah':['c'],\n",
    "    'edward':['ruby','go'],\n",
    "    'phil':['python','haskell'],\n",
    "}\n",
    "\n",
    "for name, languages in favorite_languages.items():\n",
    "    if len(languages)>1:\n",
    "        print(f\"\\n{name.title()}'s favorite languages are:\")\n",
    "        for language in languages:\n",
    "            print(f\"\\t{language.title()}\")\n",
    "    else:\n",
    "        print(f\"\\n{name.title()}'s'favorite language is:\")\n",
    "        for language in languages:\n",
    "            print(f\"\\t{language.title()}\")"
   ]
  },
  {
   "cell_type": "markdown",
   "metadata": {},
   "source": [
    "### A Dictionary in a dictionary"
   ]
  },
  {
   "cell_type": "code",
   "execution_count": 18,
   "metadata": {},
   "outputs": [
    {
     "name": "stdout",
     "output_type": "stream",
     "text": [
      "\n",
      "Username: aeinsten\n",
      "\tFull name: Albert Aeinsten\n",
      "\tLocation: Princeton\n",
      "\n",
      "Username: mcurie\n",
      "\tFull name: Marie Curie\n",
      "\tLocation: Paris\n"
     ]
    }
   ],
   "source": [
    "users ={\n",
    "    'aeinsten':{'first':'albert',\n",
    "                \"last\":'aeinsten',\n",
    "                'location':\"princeton\",\n",
    "               },\n",
    "    'mcurie':{\n",
    "        'first':\"marie\",\n",
    "        'last':'curie',\n",
    "        'location':'paris',\n",
    "    },\n",
    "}\n",
    "\n",
    "for username, user_info in users.items():\n",
    "    print(f\"\\nUsername: {username}\")\n",
    "    full_name = f\"{user_info['first']} {user_info['last']}\"\n",
    "    location = user_info['location']\n",
    "    \n",
    "    print(f\"\\tFull name: {full_name.title()}\")\n",
    "    print(f\"\\tLocation: {location.title()}\")"
   ]
  },
  {
   "cell_type": "markdown",
   "metadata": {},
   "source": [
    "### Try it yourself at page 112"
   ]
  },
  {
   "cell_type": "markdown",
   "metadata": {},
   "source": [
    "__6-7. People:__ Start with the program you wrote for Exercise 6-1 (page 99).  \n",
    "Make two new dictionaries representing different people, and store all three  \n",
    "dictionaries in a list called people. Loop through your list of people. As you  \n",
    "loop through the list, print everything you know about each person.  "
   ]
  },
  {
   "cell_type": "code",
   "execution_count": 41,
   "metadata": {},
   "outputs": [
    {
     "name": "stdout",
     "output_type": "stream",
     "text": [
      "\n",
      "In this familly we have :\n",
      "Guilherme Thomazelli at the age 39 living in the city of sao paulo.\n",
      "Guilherme\n",
      "\n",
      "In this familly we have :\n",
      "Ana Paula Thomazelli at the age 6 living in the city of sao paulo.\n",
      "Ana Paula\n",
      "\n",
      "In this familly we have :\n",
      "Renata Thomazelli at the age 38 living in the city of sao Paulo.\n",
      "Renata\n"
     ]
    }
   ],
   "source": [
    "friend1_information ={\"first_name\":\"Guilherme\",\"last_name\":\"Thomazelli\",\"age\":39,\"city\":\"sao paulo\"}\n",
    "friend2_information ={'first_name':\"Ana Paula\",\"last_name\":\"Thomazelli\",'age':6,'city':\"sao paulo\"}\n",
    "friend3_information ={'first_name':\"Renata\",\"last_name\":\"Thomazelli\",\"age\":38,'city':\"sao Paulo\"}\n",
    "\n",
    "Thomazelli_familly =[friend1_information,friend2_information, friend3_information]\n",
    "\n",
    "for friend in Thomazelli_familly:\n",
    "    print(f\"\\nIn this familly we have :\\n\"\n",
    "          f\"{friend['first_name']} {friend['last_name']} at the age {friend['age']}\"\n",
    "         f\" living in the city of {friend['city']}.\")\n",
    "    \n",
    "    print(f\"{friend['first_name']}\")"
   ]
  },
  {
   "cell_type": "markdown",
   "metadata": {},
   "source": [
    "__6-8. Pets:__ Make several dictionaries, where each dictionary represents a differ-  \n",
    "ent pet. In each dictionary, include the kind of animal and the owner’s name.  \n",
    "\n",
    "Store these dictionaries in a list called pets. Next, loop through your list and as  \n",
    "you do, print everything you know about each pet.  \n"
   ]
  },
  {
   "cell_type": "code",
   "execution_count": 3,
   "metadata": {},
   "outputs": [
    {
     "name": "stdout",
     "output_type": "stream",
     "text": [
      " Tiago has a pet, it is a dog its name is Rex\n",
      " Ana Paula has a pet, it is a cat its name is Melani\n",
      " Renata has a pet, it is a tartle its name is Flash\n"
     ]
    }
   ],
   "source": [
    "pet1={'kind':'dog', 'name':'rex','owner':'tiago'}\n",
    "pet2={'kind':'cat','name':'melani','owner':'ana paula'}\n",
    "pet3={'kind':'tartle','name':'flash','owner':'renata'}\n",
    "\n",
    "pets =[pet1, pet2,pet3]\n",
    "\n",
    "\n",
    "for pet in pets:\n",
    "    print(f\" {pet['owner'].title()} has a pet, it is a {pet['kind']} its name is {pet['name'].title()}\")"
   ]
  },
  {
   "cell_type": "markdown",
   "metadata": {},
   "source": [
    "__6-9. Favorite Places:__ Make a dictionary called favorite_places. Think of three  \n",
    "names to use as keys in the dictionary, and store one to three favorite places  \n",
    "for each person. To make this exercise a bit more interesting, ask some friends  \n",
    "to name a few of their favorite places. Loop through the dictionary, and print  \n",
    "each person’s name and their favorite places.  "
   ]
  },
  {
   "cell_type": "code",
   "execution_count": 11,
   "metadata": {},
   "outputs": [
    {
     "name": "stdout",
     "output_type": "stream",
     "text": [
      "Andrea favorite place isSão Paulo.\n",
      "Tiago favorite place isDamasceno.\n",
      "Renata favorite place isCanadá.\n"
     ]
    }
   ],
   "source": [
    "favorite_places ={'andrea':'são Paulo','tiago':'damasceno','renata':'canadá'}\n",
    "\n",
    "for name,favorite_place in favorite_places.items():\n",
    "    print(f\"{name.title()} favorite place is{favorite_place.title()}.\")"
   ]
  },
  {
   "cell_type": "markdown",
   "metadata": {},
   "source": [
    "__6-10. Favorite Numbers:__ Modify your program from Exercise 6-2 (page 99)\n",
    "\n",
    "so each person can have more than one favorite number. Then print each per-  \n",
    "son’s name along with their favorite numbers."
   ]
  },
  {
   "cell_type": "code",
   "execution_count": 14,
   "metadata": {},
   "outputs": [
    {
     "name": "stdout",
     "output_type": "stream",
     "text": [
      "\n",
      "My friend Sara likes these numbers:\n",
      "1\n",
      "3\n",
      "5\n",
      "\n",
      "My friend John likes these numbers:\n",
      "2\n",
      "4\n",
      "8\n",
      "\n",
      "My friend Israel likes these numbers:\n",
      "3\n",
      "6\n",
      "9\n"
     ]
    }
   ],
   "source": [
    "friends_numbers={'sara':[1,3,5],\"john\":[2,4,8],\"israel\":[3,6,9]}\n",
    "\n",
    "for name,numbers in friends_numbers.items():\n",
    "    \n",
    "    print(f\"\\nMy friend {name.title()} likes these numbers:\")\n",
    "    for number in numbers:\n",
    "        print(number)\n",
    "    \n",
    "    "
   ]
  },
  {
   "cell_type": "markdown",
   "metadata": {},
   "source": [
    "__6-11. Cities:__ Make a dictionary called cities. Use the names of three cities as  \n",
    "keys in your dictionary. Create a dictionary of information about each city and  \n",
    "include the country that the city is in, its approximate population, and one fact  \n",
    "about that city. The keys for each city’s dictionary should be something like  \n",
    "\n",
    "country, population, and fact. Print the name of each city and all of the infor-  \n",
    "mation you have stored about it.  "
   ]
  },
  {
   "cell_type": "code",
   "execution_count": 32,
   "metadata": {},
   "outputs": [
    {
     "name": "stdout",
     "output_type": "stream",
     "text": [
      "\n",
      "Sao Paulo is in Brazil.\n",
      "The city's population is 12.330.000.\n",
      "\n",
      "London is in England.\n",
      "The city's population is 8.982.000.\n",
      "It's a large population.\n",
      "\n",
      "Vancouver is in Canadá.\n",
      "The city's population is 675.218.\n"
     ]
    }
   ],
   "source": [
    "cities ={'sao paulo':{'country':'brazil','population':\"12.330.000\"} ,'london':{'country':'England','population':\"8.982.000\"},\\\n",
    "         'vancouver':{'country':'canadá','population':\"675.218\"} }\n",
    "\n",
    "for city,information in cities.items():\n",
    "    print(f\"\\n{city.title()} is in {information['country'].title()}.\")\n",
    "    print(f\"The city's population is {information['population']}.\")\n",
    "    if information['population']>\"7.000.000\":\n",
    "        print(\"It's a large population.\")                                                                                \n",
    "    \n",
    "         \n",
    "         "
   ]
  },
  {
   "cell_type": "code",
   "execution_count": null,
   "metadata": {},
   "outputs": [],
   "source": []
  }
 ],
 "metadata": {
  "kernelspec": {
   "display_name": "Python 3",
   "language": "python",
   "name": "python3"
  },
  "language_info": {
   "codemirror_mode": {
    "name": "ipython",
    "version": 3
   },
   "file_extension": ".py",
   "mimetype": "text/x-python",
   "name": "python",
   "nbconvert_exporter": "python",
   "pygments_lexer": "ipython3",
   "version": "3.7.6"
  }
 },
 "nbformat": 4,
 "nbformat_minor": 4
}
