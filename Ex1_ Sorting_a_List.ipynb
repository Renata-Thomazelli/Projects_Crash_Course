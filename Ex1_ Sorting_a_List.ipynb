{
 "cells": [
  {
   "cell_type": "markdown",
   "metadata": {},
   "source": [
    "## Exercises"
   ]
  },
  {
   "cell_type": "markdown",
   "metadata": {},
   "source": [
    "## Sorting a List\n",
    "    \n",
    " * Permanently with the __`sort ()`__ Method\n",
    " * __sorted list with tuplas__\n",
    " * print list as sorted but not permanantly\n",
    " * reverse sort with __`reverse=True`\n",
    " * ignoring Capital letter with __`casefold`__\n",
    " * __`lambda function`__"
   ]
  },
  {
   "cell_type": "markdown",
   "metadata": {},
   "source": [
    "# Here you will find some simple examples where you can work with list, list with tuplas, method sort, sorted, reverse=True, casefold and lambda funcitons\n",
    "\n",
    "Many of this exemples I took from  the book  Python crash course \n"
   ]
  },
  {
   "cell_type": "code",
   "execution_count": 1,
   "metadata": {},
   "outputs": [],
   "source": [
    "cars=['bmw',\"audi\",\"toyota\",\"subaru\"]\n",
    "cars.sort()"
   ]
  },
  {
   "cell_type": "code",
   "execution_count": 2,
   "metadata": {},
   "outputs": [
    {
     "name": "stdout",
     "output_type": "stream",
     "text": [
      "['audi', 'bmw', 'subaru', 'toyota']\n"
     ]
    }
   ],
   "source": [
    "print(cars)"
   ]
  },
  {
   "cell_type": "markdown",
   "metadata": {},
   "source": [
    "With the sort() Method we can change the sort premanently and we can never evert to the riginal order."
   ]
  },
  {
   "cell_type": "code",
   "execution_count": 3,
   "metadata": {},
   "outputs": [
    {
     "name": "stdout",
     "output_type": "stream",
     "text": [
      "['toyota', 'subaru', 'bmw', 'audi']\n"
     ]
    }
   ],
   "source": [
    "#YOU CAN ALSO SORT THIS LIST I REVERSE ALPHABETICAL ORDER BY PASSINGTHE ARGUMENT\n",
    "#reverse=True\n",
    "\n",
    "cars=['bmw',\"audi\",\"toyota\",\"subaru\"]\n",
    "cars.sort(reverse=True)\n",
    "print(cars)\n",
    "\n",
    "\n"
   ]
  },
  {
   "cell_type": "code",
   "execution_count": 4,
   "metadata": {},
   "outputs": [],
   "source": [
    "#To maintain the original order of a list but present it in a sorted order, you\n",
    "#can use the sorted() function. The sorted() function lets you display your list\n",
    "#in a particular order but doesn’t affect the actual order of the list."
   ]
  },
  {
   "cell_type": "code",
   "execution_count": 5,
   "metadata": {},
   "outputs": [],
   "source": [
    "cars=[\"bmw\",\"audi\",\"toyota\",\"subaru\"]\n"
   ]
  },
  {
   "cell_type": "code",
   "execution_count": 6,
   "metadata": {},
   "outputs": [
    {
     "data": {
      "text/plain": [
       "['bmw', 'audi', 'toyota', 'subaru']"
      ]
     },
     "execution_count": 6,
     "metadata": {},
     "output_type": "execute_result"
    }
   ],
   "source": [
    "cars"
   ]
  },
  {
   "cell_type": "code",
   "execution_count": 7,
   "metadata": {},
   "outputs": [
    {
     "name": "stdout",
     "output_type": "stream",
     "text": [
      "['audi', 'bmw', 'subaru', 'toyota']\n"
     ]
    }
   ],
   "source": [
    "print(sorted(cars))\n"
   ]
  },
  {
   "cell_type": "code",
   "execution_count": 8,
   "metadata": {},
   "outputs": [
    {
     "data": {
      "text/plain": [
       "['bmw', 'audi', 'toyota', 'subaru']"
      ]
     },
     "execution_count": 8,
     "metadata": {},
     "output_type": "execute_result"
    }
   ],
   "source": [
    "cars"
   ]
  },
  {
   "cell_type": "code",
   "execution_count": 9,
   "metadata": {},
   "outputs": [
    {
     "name": "stdout",
     "output_type": "stream",
     "text": [
      "\n",
      " Here is the original list\n"
     ]
    },
    {
     "data": {
      "text/plain": [
       "['bmw', 'audi', 'toyota', 'subaru']"
      ]
     },
     "execution_count": 9,
     "metadata": {},
     "output_type": "execute_result"
    }
   ],
   "source": [
    "print(\"\\n Here is the original list\")\n",
    "cars"
   ]
  },
  {
   "cell_type": "code",
   "execution_count": 10,
   "metadata": {},
   "outputs": [],
   "source": [
    "# We can also use use the reverse=True argument in the function sorted()\n"
   ]
  },
  {
   "cell_type": "code",
   "execution_count": 13,
   "metadata": {},
   "outputs": [
    {
     "name": "stdout",
     "output_type": "stream",
     "text": [
      "\n",
      " Here we have the list sorted in the reverse ordem\n"
     ]
    }
   ],
   "source": [
    "\n",
    "print(\"\\n Here we have the list sorted in the reverse ordem\")"
   ]
  },
  {
   "cell_type": "code",
   "execution_count": 20,
   "metadata": {},
   "outputs": [
    {
     "name": "stdout",
     "output_type": "stream",
     "text": [
      "['toyota', 'subaru', 'bmw', 'audi']\n"
     ]
    }
   ],
   "source": [
    "print(sorted(cars,reverse=True))"
   ]
  },
  {
   "cell_type": "code",
   "execution_count": 24,
   "metadata": {},
   "outputs": [
    {
     "name": "stdout",
     "output_type": "stream",
     "text": [
      "Here is the orignal list\n",
      "['bmw', 'audi', 'toyota', 'subaru']\n",
      "\n",
      " Here is the sorted list in the reverse order\n"
     ]
    },
    {
     "data": {
      "text/plain": [
       "['toyota', 'subaru', 'bmw', 'audi']"
      ]
     },
     "execution_count": 24,
     "metadata": {},
     "output_type": "execute_result"
    }
   ],
   "source": [
    "print(\"Here is the orignal list\")\n",
    "print(cars)\n",
    "\n",
    "print(\"\\n Here is the sorted list in the reverse order\")\n",
    "sorted(cars,reverse=True)"
   ]
  },
  {
   "cell_type": "code",
   "execution_count": 25,
   "metadata": {},
   "outputs": [
    {
     "data": {
      "text/plain": [
       "['bmw', 'audi', 'toyota', 'subaru']"
      ]
     },
     "execution_count": 25,
     "metadata": {},
     "output_type": "execute_result"
    }
   ],
   "source": [
    "cars"
   ]
  },
  {
   "cell_type": "code",
   "execution_count": 26,
   "metadata": {},
   "outputs": [],
   "source": [
    "#OK let's work with a list of tuplas and let's see how this works\n",
    "\n",
    "list_tuplas=[(1,6,5),(8,4,6,5),(8,9,4),(4,6,5)]"
   ]
  },
  {
   "cell_type": "code",
   "execution_count": 27,
   "metadata": {},
   "outputs": [
    {
     "name": "stdout",
     "output_type": "stream",
     "text": [
      "[(1, 6, 5), (8, 4, 6, 5), (8, 9, 4), (4, 6, 5)]\n"
     ]
    }
   ],
   "source": [
    "print(list_tuplas)"
   ]
  },
  {
   "cell_type": "code",
   "execution_count": 28,
   "metadata": {},
   "outputs": [
    {
     "data": {
      "text/plain": [
       "[(8, 9, 4), (1, 6, 5), (4, 6, 5), (8, 4, 6, 5)]"
      ]
     },
     "execution_count": 28,
     "metadata": {},
     "output_type": "execute_result"
    }
   ],
   "source": [
    "#let's think that we want to ordened this tupla by the third[2] index, for that we can use lambda function and we can use\n",
    "# the special word Key refering to the function lambda\n",
    "#Let's see it\n",
    "\n",
    "\n",
    "func_lamb=lambda x: x[2]\n",
    "\n",
    "sorted(list_tuplas,key=func_lamb)"
   ]
  },
  {
   "cell_type": "code",
   "execution_count": 29,
   "metadata": {},
   "outputs": [
    {
     "data": {
      "text/plain": [
       "[(1, 6, 5), (4, 6, 5), (8, 4, 6, 5), (8, 9, 4)]"
      ]
     },
     "execution_count": 29,
     "metadata": {},
     "output_type": "execute_result"
    }
   ],
   "source": [
    "#Let's try again with the first index[0]\n",
    "\n",
    "func_lamb1 = lambda x:x[0]\n",
    "sorted(list_tuplas, key=func_lamb1)"
   ]
  },
  {
   "cell_type": "code",
   "execution_count": 31,
   "metadata": {},
   "outputs": [],
   "source": [
    "#Let's get other example:\n",
    "list_tuplas2=[(\"R\",0,3),(\"E\",2,1),(\"i\",3,0),(\"e\",2,9),(\"a\",1,45)]"
   ]
  },
  {
   "cell_type": "code",
   "execution_count": 33,
   "metadata": {},
   "outputs": [
    {
     "data": {
      "text/plain": [
       "[('E', 2, 1), ('R', 0, 3), ('a', 1, 45), ('e', 2, 9), ('i', 3, 0)]"
      ]
     },
     "execution_count": 33,
     "metadata": {},
     "output_type": "execute_result"
    }
   ],
   "source": [
    "#Lets try ordened it by the first index\n",
    "func_lamb2=lambda x:x[0]\n",
    "sorted(list_tuplas2,key=func_lamb2)"
   ]
  },
  {
   "cell_type": "code",
   "execution_count": 35,
   "metadata": {},
   "outputs": [],
   "source": [
    "#Let's think about what happened here\n",
    "#The Upper Letter is Prioritizing over the low case\n",
    "#To fix it what we can do is to force the sorted Method to see all the letters as low case, for that we can use casefold this\n",
    "#function will igonore the case.\n",
    "\n",
    "#Definition and Usage\n",
    "#The casefold() method returns a string where all the characters are lower case.\n",
    "\n",
    "#This method is similar to the lower() method, but the casefold() method is stronger, \n",
    "#more aggressive, meaning that it will convert more characters into lower case, and will \n",
    "#find more matches when comparing two strings and both are converted using the casefold() method.\n",
    "\n",
    "#https://www.w3schools.com/python/ref_string_casefold.asp\n",
    "\n"
   ]
  },
  {
   "cell_type": "code",
   "execution_count": 36,
   "metadata": {},
   "outputs": [
    {
     "data": {
      "text/plain": [
       "[('a', 1, 45), ('E', 2, 1), ('e', 2, 9), ('i', 3, 0), ('R', 0, 3)]"
      ]
     },
     "execution_count": 36,
     "metadata": {},
     "output_type": "execute_result"
    }
   ],
   "source": [
    "#Let's try it again\n",
    "\n",
    "func_lamb3 = lambda x: str.casefold(x[0])\n",
    "\n",
    "sorted(list_tuplas2,key=func_lamb3)"
   ]
  },
  {
   "cell_type": "code",
   "execution_count": 40,
   "metadata": {},
   "outputs": [
    {
     "data": {
      "text/plain": [
       "[('a', 1, 45), ('E', 2, 1), ('e', 2, 9), ('i', 3, 0), ('R', 0, 3)]"
      ]
     },
     "execution_count": 40,
     "metadata": {},
     "output_type": "execute_result"
    }
   ],
   "source": [
    "#Good but, let's think that now we heve two \"e\" and if they are the same we wish to ordened it by the second [1] index \n",
    "\n",
    "\n",
    "func_lamb4 = lambda x: (str.casefold(x[0]),x[1])\n",
    "\n",
    "sorted(list_tuplas2,key=func_lamb4)"
   ]
  },
  {
   "cell_type": "code",
   "execution_count": 41,
   "metadata": {},
   "outputs": [],
   "source": [
    "#OK my list has 2 \"Two\" in the second and thrid tupla.. let's change this, to see if it is really working\n",
    "\n",
    "list_tuplas3=[(\"R\",0,3),(\"E\",2,1),(\"i\",3,0),(\"e\",1,9),(\"a\",1,45)]"
   ]
  },
  {
   "cell_type": "code",
   "execution_count": 42,
   "metadata": {},
   "outputs": [
    {
     "data": {
      "text/plain": [
       "[('a', 1, 45), ('e', 1, 9), ('E', 2, 1), ('i', 3, 0), ('R', 0, 3)]"
      ]
     },
     "execution_count": 42,
     "metadata": {},
     "output_type": "execute_result"
    }
   ],
   "source": [
    "#Ok Let's run it\n",
    "\n",
    "func_lamb4 = lambda x: (str.casefold(x[0]),x[1])\n",
    "\n",
    "sorted(list_tuplas3,key=func_lamb4)"
   ]
  },
  {
   "cell_type": "code",
   "execution_count": null,
   "metadata": {},
   "outputs": [],
   "source": []
  }
 ],
 "metadata": {
  "kernelspec": {
   "display_name": "Python 3",
   "language": "python",
   "name": "python3"
  },
  "language_info": {
   "codemirror_mode": {
    "name": "ipython",
    "version": 3
   },
   "file_extension": ".py",
   "mimetype": "text/x-python",
   "name": "python",
   "nbconvert_exporter": "python",
   "pygments_lexer": "ipython3",
   "version": "3.7.6"
  }
 },
 "nbformat": 4,
 "nbformat_minor": 4
}
