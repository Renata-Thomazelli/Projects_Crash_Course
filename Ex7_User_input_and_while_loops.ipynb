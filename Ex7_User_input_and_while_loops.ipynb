{
 "cells": [
  {
   "cell_type": "markdown",
   "metadata": {},
   "source": [
    "### Here  we'll see:\n",
    "\n",
    "* #####  How input() funciton works\n",
    "* #####  Using int() to accept numerical Input\n",
    "* ##### The Modulo Operator\n",
    "* ##### Using a flag\n",
    "* ##### Using a message 'quit' to stop a loop\n",
    "* ##### Using break to exit a loop\n",
    "* ##### Using continue to still in a loop\n",
    "* ##### Avoiding infinit loops\n",
    "* ##### Removing all instances of specify values from a list\n",
    "* ##### Filling a Dictionary with User Input\n",
    "\n",
    "## Exercices:\n",
    "\n",
    ">>>__7-2. Restaurant__ \n",
    ">>>>Here I used\n",
    ">>>>>__`if`__\n",
    ">>>>>__`else`__\n",
    "\n",
    ">>>__7-3. Multiples of Ten__\n",
    ">>>>Here I used\n",
    ">>>>>__The Modulo Operator %__\n",
    "\n",
    ">>>__7.5 Movie Tickets__\n",
    ">>>>Here I used\n",
    ">>>>>__`while`__ loop  \n",
    ">>>>>__`try`__  \n",
    ">>>>>__`if`__  \n",
    ">>>>>__`elif`__  \n",
    ">>>>>__`else`__  \n",
    ">>>>>__`except`__  \n",
    ">>>>>__`finally`__  \n",
    ">>>>>__`assert`__  \n",
    ">>>>>__`Except Block`__   \n",
    ">>>>>__`continue`__  \n",
    ">>>>>__`break`__  \n",
    "\n",
    "\n"
   ]
  },
  {
   "cell_type": "markdown",
   "metadata": {},
   "source": [
    "How input() funciton works\n"
   ]
  },
  {
   "cell_type": "code",
   "execution_count": 5,
   "metadata": {},
   "outputs": [
    {
     "name": "stdout",
     "output_type": "stream",
     "text": [
      "Tell me something, and I will repeat it back to you: Oi\n",
      "Oi\n"
     ]
    }
   ],
   "source": [
    "message = input(\"Tell me something, and I will repeat it back to you: \")\n",
    "print(message)"
   ]
  },
  {
   "cell_type": "code",
   "execution_count": 6,
   "metadata": {},
   "outputs": [
    {
     "name": "stdout",
     "output_type": "stream",
     "text": [
      "Please write your name: Renata\n",
      "Hi Renata\n"
     ]
    }
   ],
   "source": [
    "name= input(\"Please write your name: \")\n",
    "print(f\"Hi {name}\")"
   ]
  },
  {
   "cell_type": "code",
   "execution_count": 7,
   "metadata": {},
   "outputs": [
    {
     "name": "stdout",
     "output_type": "stream",
     "text": [
      "If you tell us who you are, we can personalize the messages you see.\n",
      "What is your first name?Renata\n",
      "Hello, Renata!\n"
     ]
    }
   ],
   "source": [
    "# += takes the string that was assigned to prompt and adds the new string onto the end.\n",
    "prompt =\"If you tell us who you are, we can personalize the messages you see.\"\n",
    "prompt+=\"\\nWhat is your first name?\"\n",
    "\n",
    "name=input(prompt)\n",
    "print(f\"Hello, {name}!\")"
   ]
  },
  {
   "cell_type": "markdown",
   "metadata": {},
   "source": [
    "## Using int() to accept numerical Input"
   ]
  },
  {
   "cell_type": "code",
   "execution_count": 10,
   "metadata": {},
   "outputs": [
    {
     "name": "stdout",
     "output_type": "stream",
     "text": [
      "How old are you? 38\n"
     ]
    }
   ],
   "source": [
    "age=input(\"How old are you? \")\n"
   ]
  },
  {
   "cell_type": "code",
   "execution_count": 11,
   "metadata": {},
   "outputs": [
    {
     "data": {
      "text/plain": [
       "str"
      ]
     },
     "execution_count": 11,
     "metadata": {},
     "output_type": "execute_result"
    }
   ],
   "source": [
    "type(age)"
   ]
  },
  {
   "cell_type": "code",
   "execution_count": 12,
   "metadata": {},
   "outputs": [
    {
     "name": "stdout",
     "output_type": "stream",
     "text": [
      "How old are you? 38\n"
     ]
    }
   ],
   "source": [
    "age=input(\"How old are you? \")\n",
    "age=int(age)"
   ]
  },
  {
   "cell_type": "code",
   "execution_count": 13,
   "metadata": {},
   "outputs": [
    {
     "data": {
      "text/plain": [
       "int"
      ]
     },
     "execution_count": 13,
     "metadata": {},
     "output_type": "execute_result"
    }
   ],
   "source": [
    "type(age)"
   ]
  },
  {
   "cell_type": "code",
   "execution_count": null,
   "metadata": {},
   "outputs": [],
   "source": [
    "age>21"
   ]
  },
  {
   "cell_type": "code",
   "execution_count": 14,
   "metadata": {},
   "outputs": [
    {
     "name": "stdout",
     "output_type": "stream",
     "text": [
      "How tall are you, in inches?38\n",
      "You'll be able to ride when you're a little older.\n"
     ]
    }
   ],
   "source": [
    "height=input(\"How tall are you, in inches?\")\n",
    "height=int(height)\n",
    "\n",
    "if height >=48:\n",
    "    print(\"\\nYou are tall enough to ride!!\")\n",
    "else:\n",
    "    print(\"You'll be able to ride when you're a little older.\")"
   ]
  },
  {
   "cell_type": "markdown",
   "metadata": {},
   "source": [
    "###  The Modulo Operator"
   ]
  },
  {
   "cell_type": "markdown",
   "metadata": {},
   "source": [
    "A useful tool for working with numerical information is the modulo operator (%),  \n",
    "which divides one number by another number and returns the remainder:"
   ]
  },
  {
   "cell_type": "code",
   "execution_count": 15,
   "metadata": {},
   "outputs": [
    {
     "data": {
      "text/plain": [
       "1"
      ]
     },
     "execution_count": 15,
     "metadata": {},
     "output_type": "execute_result"
    }
   ],
   "source": [
    "4 % 3\n"
   ]
  },
  {
   "cell_type": "code",
   "execution_count": 16,
   "metadata": {},
   "outputs": [
    {
     "data": {
      "text/plain": [
       "0"
      ]
     },
     "execution_count": 16,
     "metadata": {},
     "output_type": "execute_result"
    }
   ],
   "source": [
    "6 % 3"
   ]
  },
  {
   "cell_type": "code",
   "execution_count": 17,
   "metadata": {},
   "outputs": [
    {
     "name": "stdout",
     "output_type": "stream",
     "text": [
      "Enter a number, and I'll tell you if it's even or odd.4\n",
      "The 4 is even.\n"
     ]
    }
   ],
   "source": [
    "number=input(f\"Enter a number, and I'll tell you if it's even or odd.\")\n",
    "number=int(number)\n",
    "\n",
    "if number % 2 == 0:\n",
    "    print(f\"The {number} is even.\")\n",
    "else:\n",
    "    print(f\"The {number} is odd.\")\n"
   ]
  },
  {
   "cell_type": "markdown",
   "metadata": {},
   "source": [
    "__7-1. Rental Car:__ Write a program that asks the user what kind of rental car they\n",
    "would like. Print a message about that car, such as “Let me see if I can find you\n",
    "a Subaru.”"
   ]
  },
  {
   "cell_type": "code",
   "execution_count": 19,
   "metadata": {},
   "outputs": [
    {
     "name": "stdout",
     "output_type": "stream",
     "text": [
      "Please, write for me want kind of car do you like to rent? Subaru\n",
      "I will check if a can find a Subaru to you.\n"
     ]
    }
   ],
   "source": [
    "mensagem=input(f\"Please, write for me want kind of car do you like to rent? \")\n",
    "print(f\"I will check if a can find a {mensagem} to you.\")\n",
    "               "
   ]
  },
  {
   "cell_type": "markdown",
   "metadata": {},
   "source": [
    "__7-2. Restaurant Seating:__ Write a program that asks the user how many people\n",
    "\n",
    "are in their dinner group. If the answer is more than eight, print a message say-\n",
    "ing they’ll have to wait for a table. Otherwise, report that their table is ready."
   ]
  },
  {
   "cell_type": "code",
   "execution_count": 20,
   "metadata": {},
   "outputs": [
    {
     "name": "stdout",
     "output_type": "stream",
     "text": [
      "Hi, do you like a table for how many people?10\n",
      "Please, wait until we have a avalible table to you\n"
     ]
    }
   ],
   "source": [
    "tableavalible=(\"The table is avalible\")\n",
    "tablenotavalible=(\"Please, wait until we have a avalible table to you\")\n",
    "\n",
    "message=int(input(\"Hi, do you like a table for how many people?\"))\n",
    "\n",
    "if message >= 8:\n",
    "    print(tablenotavalible)\n",
    "else:\n",
    "    print(tableavalible)"
   ]
  },
  {
   "cell_type": "markdown",
   "metadata": {},
   "source": [
    "__7-3. Multiples of Ten:__ Ask the user for a number, and then report whether the  \n",
    "number is a multiple of 10 or not."
   ]
  },
  {
   "cell_type": "code",
   "execution_count": 21,
   "metadata": {},
   "outputs": [
    {
     "name": "stdout",
     "output_type": "stream",
     "text": [
      "Hi, tell me a number, and I'll tell you if it is a multiple of 10 or not45\n",
      "The number 45 is not a multiple of 10\n"
     ]
    }
   ],
   "source": [
    "message=int(input(\"Hi, tell me a number, and I'll tell you if it is a multiple of 10 or not\"))\n",
    "\n",
    "multipleyes=(f\"The number {message} is a multiple of 10\")\n",
    "multiplenot=(f\"The number {message} is not a multiple of 10\")\n",
    "\n",
    "if message % 10 == 0:\n",
    "    print(multipleyes)\n",
    "else:\n",
    "\n",
    "    print(multiplenot)\n",
    "\n"
   ]
  },
  {
   "cell_type": "markdown",
   "metadata": {},
   "source": [
    "## Introduce while loops"
   ]
  },
  {
   "cell_type": "markdown",
   "metadata": {},
   "source": [
    "The for loop takes a collection of items and executes a block of code once  \n",
    "for each item in the collection. In contrast, the while loop runs as long as,  \n",
    "or while, a certain condition is true.  "
   ]
  },
  {
   "cell_type": "code",
   "execution_count": 22,
   "metadata": {},
   "outputs": [
    {
     "name": "stdout",
     "output_type": "stream",
     "text": [
      "1\n",
      "2\n",
      "3\n",
      "4\n",
      "5\n"
     ]
    }
   ],
   "source": [
    "current_number=1\n",
    "while current_number <=5:\n",
    "    print(current_number)\n",
    "    current_number+=1\n",
    "    \n",
    "#(The += operator is shorthand for current_number = current_number + 1.)\n",
    "\n"
   ]
  },
  {
   "cell_type": "markdown",
   "metadata": {},
   "source": [
    "## Letting the User Choose When to Quit"
   ]
  },
  {
   "cell_type": "code",
   "execution_count": 23,
   "metadata": {},
   "outputs": [
    {
     "name": "stdout",
     "output_type": "stream",
     "text": [
      "\n",
      "Tell me something, and I will repeat it back to you: \n",
      "Enter 'quit' to end the program. Oi\n",
      "Oi\n",
      "\n",
      "Tell me something, and I will repeat it back to you: \n",
      "Enter 'quit' to end the program. I'm soo pretty\n",
      "I'm soo pretty\n",
      "\n",
      "Tell me something, and I will repeat it back to you: \n",
      "Enter 'quit' to end the program. quit\n",
      "quit\n"
     ]
    }
   ],
   "source": [
    "prompt=\"\\nTell me something, and I will repeat it back to you: \"\n",
    "prompt+=\"\\nEnter 'quit' to end the program. \"\n",
    "message =\"\"\n",
    "while message !='quit':\n",
    "    message=input(prompt)\n",
    "    print(message)\n"
   ]
  },
  {
   "cell_type": "markdown",
   "metadata": {},
   "source": [
    "At 1  and 2, we define a prompt that tells the user their two options: enter-  \n",
    "ing a message or entering the quit value (in this case, 'quit'). Then we set  \n",
    "\n",
    "up a variable message 3 to keep track of whatever value the user enters. We  \n",
    "define message as an empty string, \"\", so Python has something to check  \n",
    "the first time it reaches the while line. The first time the program runs  \n",
    "and Python reaches the while statement, it needs to compare the value  \n",
    "of message to 'quit', but no user input has been entered yet. If Python has  \n",
    "nothing to compare, it won’t be able to continue running the program. To  \n",
    "solve this problem, we make sure to give message an initial value. Although  \n",
    "it’s just an empty string, it will make sense to Python and allow it to perform  \n",
    "the comparison that makes the while loop work. This while loop 4 runs as  \n",
    "long as the value of message is not 'quit'.  \n",
    "The first time through the loop, message is just an empty string, so Python  \n",
    "enters the loop. At message = input(prompt), Python displays the prompt  \n",
    "and waits for the user to enter their input. Whatever they enter is assigned  \n",
    "to message and printed; then, Python reevaluates the condition in the while  \n",
    "statement. As long as the user has not entered the word 'quit', the prompt  \n",
    "is displayed again and Python waits for more input. When the user finally  \n",
    "enters 'quit', Python stops executing the while loop and the program ends:  \n",
    "__page 119__"
   ]
  },
  {
   "cell_type": "code",
   "execution_count": 24,
   "metadata": {},
   "outputs": [
    {
     "name": "stdout",
     "output_type": "stream",
     "text": [
      "\n",
      "Tell me something, and I will repeat it back to you: \n",
      "Enter 'quit' to end the program. oi\n",
      "oi\n",
      "\n",
      "Tell me something, and I will repeat it back to you: \n",
      "Enter 'quit' to end the program. qui\n",
      "qui\n",
      "\n",
      "Tell me something, and I will repeat it back to you: \n",
      "Enter 'quit' to end the program. quit\n"
     ]
    }
   ],
   "source": [
    "prompt=\"\\nTell me something, and I will repeat it back to you: \"\n",
    "prompt+=\"\\nEnter 'quit' to end the program. \"\n",
    "message =\" \"\n",
    "while message !='quit':\n",
    "    message=input(prompt)\n",
    "    \n",
    "    if message !='quit':\n",
    "        print(message)"
   ]
  },
  {
   "cell_type": "markdown",
   "metadata": {},
   "source": [
    "### Using a Flag"
   ]
  },
  {
   "cell_type": "code",
   "execution_count": 25,
   "metadata": {},
   "outputs": [
    {
     "name": "stdout",
     "output_type": "stream",
     "text": [
      "\n",
      "Tell me something, and I will repeat it back to you: \n",
      "Enter 'quit' to end the program. oi\n",
      "oi\n",
      "\n",
      "Tell me something, and I will repeat it back to you: \n",
      "Enter 'quit' to end the program. quit\n"
     ]
    }
   ],
   "source": [
    "prompt=\"\\nTell me something, and I will repeat it back to you: \"\n",
    "prompt+=\"\\nEnter 'quit' to end the program. \"\n",
    "\n",
    "active = True\n",
    "while active:\n",
    "    message=input(prompt)\n",
    "    \n",
    "    if message == 'quit':\n",
    "        active = False\n",
    "    else:\n",
    "        print(message)\n",
    "    "
   ]
  },
  {
   "cell_type": "markdown",
   "metadata": {},
   "source": [
    "### Using break to Exit a loop"
   ]
  },
  {
   "cell_type": "code",
   "execution_count": 1,
   "metadata": {},
   "outputs": [
    {
     "name": "stdout",
     "output_type": "stream",
     "text": [
      "\n",
      "Please enter the name of a city you have visited.\n",
      "(Enter'quit' when you are finished)Canadá\n",
      "I'd love to go to Canadá.\n",
      "\n",
      "Please enter the name of a city you have visited.\n",
      "(Enter'quit' when you are finished)Cataratas do Iguaçu\n",
      "I'd love to go to Cataratas Do Iguaçu.\n",
      "\n",
      "Please enter the name of a city you have visited.\n",
      "(Enter'quit' when you are finished)quit\n"
     ]
    }
   ],
   "source": [
    "prompt =\"\\nPlease enter the name of a city you have visited.\"\n",
    "prompt+=\"\\n(Enter'quit' when you are finished)\"\n",
    "\n",
    "while True:\n",
    "    city =input(prompt)\n",
    "    \n",
    "    if city =='quit':\n",
    "        break\n",
    "        \n",
    "    else:\n",
    "        print(f\"I'd love to go to {city.title()}.\")\n",
    "    "
   ]
  },
  {
   "cell_type": "markdown",
   "metadata": {},
   "source": [
    "### Using Continue in a loop"
   ]
  },
  {
   "cell_type": "code",
   "execution_count": 2,
   "metadata": {},
   "outputs": [
    {
     "name": "stdout",
     "output_type": "stream",
     "text": [
      "1\n",
      "3\n",
      "5\n",
      "7\n",
      "9\n"
     ]
    }
   ],
   "source": [
    "current_number = 0\n",
    "while current_number <10:\n",
    "    current_number +=1\n",
    "    if current_number % 2 == 0:\n",
    "        continue\n",
    "        \n",
    "    \n",
    "    print(current_number)\n"
   ]
  },
  {
   "cell_type": "markdown",
   "metadata": {},
   "source": [
    "### Avoiding Infinite Loops"
   ]
  },
  {
   "cell_type": "markdown",
   "metadata": {},
   "source": [
    "Every while loop needs a way to stop running so it won’t continue to run for-  \n",
    "ever. For example, this counting loop should count from 1 to 5:"
   ]
  },
  {
   "cell_type": "code",
   "execution_count": 3,
   "metadata": {},
   "outputs": [
    {
     "name": "stdout",
     "output_type": "stream",
     "text": [
      "1\n",
      "2\n",
      "3\n",
      "4\n"
     ]
    }
   ],
   "source": [
    "x=1\n",
    "while x <5:\n",
    "    print(x)\n",
    "    x += 1\n",
    "    \n"
   ]
  },
  {
   "cell_type": "markdown",
   "metadata": {},
   "source": [
    "But if you accidentally omit the line x += 1   , the loop\n",
    "will run forever:"
   ]
  },
  {
   "cell_type": "markdown",
   "metadata": {},
   "source": [
    "### Try it Yourself"
   ]
  },
  {
   "cell_type": "markdown",
   "metadata": {},
   "source": [
    "page 123"
   ]
  },
  {
   "cell_type": "markdown",
   "metadata": {},
   "source": [
    "__7-4. Pizza Toppings:__ Write a loop that prompts the user to enter a series of  \n",
    "pizza toppings until they enter a 'quit' value. As they enter each topping,  \n",
    "print a message saying you’ll add that topping to their pizza."
   ]
  },
  {
   "cell_type": "code",
   "execution_count": 4,
   "metadata": {},
   "outputs": [
    {
     "name": "stdout",
     "output_type": "stream",
     "text": [
      "\n",
      "Write a top to your pizza: \n",
      "Enter 'quit' when you finish cheddar\n",
      "\n",
      "Good you added Cheddar to your pizza\n",
      "\n",
      "Write a top to your pizza: \n",
      "Enter 'quit' when you finish tomato\n",
      "\n",
      "Good you added Tomato to your pizza\n",
      "\n",
      "Write a top to your pizza: \n",
      "Enter 'quit' when you finish quit\n"
     ]
    }
   ],
   "source": [
    "prompt=\"\\nWrite a top to your pizza: \"\n",
    "prompt+=\"\\nEnter 'quit' when you finish \"\n",
    "topping =''\n",
    "while topping != 'quit':\n",
    "    topping=input(prompt)\n",
    "    if topping != 'quit':\n",
    "        print (f\"\\nGood you added {topping.title()} to your pizza\")\n",
    "       \n",
    "        "
   ]
  },
  {
   "cell_type": "code",
   "execution_count": 5,
   "metadata": {},
   "outputs": [
    {
     "name": "stdout",
     "output_type": "stream",
     "text": [
      "\n",
      "Tell me something, and I will repeat it back to you: \n",
      "Enter 'quit' to end the program. oi\n",
      "oi\n",
      "\n",
      "Tell me something, and I will repeat it back to you: \n",
      "Enter 'quit' to end the program. work\n",
      "work\n",
      "\n",
      "Tell me something, and I will repeat it back to you: \n",
      "Enter 'quit' to end the program. quit\n",
      "quit\n"
     ]
    }
   ],
   "source": [
    "prompt=\"\\nTell me something, and I will repeat it back to you: \"\n",
    "prompt+=\"\\nEnter 'quit' to end the program. \"\n",
    "message =\"\"\n",
    "while message !='quit':\n",
    "    message=input(prompt)\n",
    "    print(message)\n",
    "    "
   ]
  },
  {
   "cell_type": "markdown",
   "metadata": {},
   "source": [
    "__7-5. Movie Tickets:__ A movie theater charges different ticket prices depending on\n",
    "a person’s age. If a person is under the age of 3, the ticket is free; if they are\n",
    "between 3 and 12, the ticket is $10; and if they are over age 12, the ticket is\n",
    "$15. Write a loop in which you ask users their age, and then tell them the cost\n",
    "of their movie ticket."
   ]
  },
  {
   "cell_type": "code",
   "execution_count": 1,
   "metadata": {},
   "outputs": [
    {
     "name": "stdout",
     "output_type": "stream",
     "text": [
      "Would you like to get a ticket?Please write your age: 15\n",
      "You are 15 years old, your ticket price is $15.\n",
      "Would you like to get a ticket?Please write your age: 8\n",
      "You are 8 years old, your ticket price is $10.\n",
      "Would you like to get a ticket?Please write your age: 75\n",
      "You are 75 years old, your ticket price is $15.\n",
      "Would you like to get a ticket?Please write your age: -3\n",
      "Something is not right try it again.\n"
     ]
    }
   ],
   "source": [
    "#I did this one, but the is one problem...\n",
    "# Think with me well in this scene I'm not expecting to have a string as a input.\n",
    "# So if the user do this? What can I do to avoid the ValueError message?\n",
    "\n",
    "prompt=\"Would you like to get a ticket?\"\n",
    "prompt+=\"Please write your age: \"\n",
    "\n",
    "age= 0\n",
    "while age >=0:\n",
    "    age=int(input(prompt))\n",
    "    if age not in range(0,120):\n",
    "        print(f\"Something is not right try it again.\")\n",
    "    elif age > 0 and age <3:\n",
    "        print(f\"You are {age} years old, your ticket is free!\")\n",
    "    elif age >=3 and age<=12:\n",
    "        print(f\"You are {age} years old, your ticket price is $10.\")\n",
    "    else:\n",
    "        print(f\"You are {age} years old, your ticket price is $15.\")\n",
    "    "
   ]
  },
  {
   "cell_type": "code",
   "execution_count": 1,
   "metadata": {},
   "outputs": [
    {
     "name": "stdout",
     "output_type": "stream",
     "text": [
      "\n",
      "Would you like to get a ticket?\n",
      "Please write your age: one\n",
      "That is not a valible option, try it again.\n",
      "\n",
      "Would you like to get a ticket?\n",
      "Please write your age: 3\n",
      "You are 3 years old, your ticket price is $10.\n",
      "\n",
      "Would you like to get a ticket?\n",
      "Please write your age: 4\n",
      "You are 4 years old, your ticket price is $10.\n",
      "\n",
      "Would you like to get a ticket?\n",
      "Please write your age: 5\n",
      "You are 5 years old, your ticket price is $10.\n",
      "\n",
      "Would you like to get a ticket?\n",
      "Please write your age: -130\n",
      "Something is not right try it again.\n"
     ]
    }
   ],
   "source": [
    "prompt=\"\\nWould you like to get a ticket?\"\n",
    "prompt+=\"\\nPlease write your age: \"\n",
    "\n",
    "age= 0\n",
    "\n",
    "\n",
    "    \n",
    "while age >=0:\n",
    "\n",
    "    try:\n",
    "        age=int(input(prompt))\n",
    "        \n",
    "    except ValueError:\n",
    "        print(f\"That is not a valible option, try it again.\")\n",
    "        # When our input is a string stead a integer\n",
    "        continue\n",
    "    \n",
    "    \n",
    "    if age not in range(0,120):\n",
    "        print(f\"Something is not right try it again.\")\n",
    "    elif age > 0 and age <3:\n",
    "        print(f\"You are {age} years old, your ticket is free!\")\n",
    "    elif age >=3 and age<=12:\n",
    "        print(f\"You are {age} years old, your ticket price is $10.\")\n",
    "    else:\n",
    "        print(f\"You are {age} years old, your ticket price is $15.\")\n",
    "    "
   ]
  },
  {
   "cell_type": "code",
   "execution_count": 10,
   "metadata": {},
   "outputs": [
    {
     "name": "stdout",
     "output_type": "stream",
     "text": [
      "\n",
      "Would you like to get a ticket?\n",
      "Please write your age: 0\n",
      "You are 0 years old, your ticket is free!\n",
      "\n",
      "Would you like to get a ticket?\n",
      "Please write your age: 15\n",
      "You are 15 years old, your ticket price is $15.\n",
      "\n",
      "Would you like to get a ticket?\n",
      "Please write your age: -130\n",
      "\n",
      "Something is not right. Try it again.\n",
      "Fim da execução\n"
     ]
    }
   ],
   "source": [
    "#Using break \n",
    "\n",
    "prompt=\"\\nWould you like to get a ticket?\"\n",
    "prompt+=\"\\nPlease write your age: \"\n",
    "\n",
    "age= 0\n",
    "\n",
    "\n",
    "    \n",
    "while age >=0:\n",
    "\n",
    "    try:\n",
    "       \n",
    "        age=int(input(prompt))\n",
    "       \n",
    "    except ValueError:\n",
    "        print(f\"That is not a valible option. You need to input a integer number. Try it again.\")   \n",
    "        continue\n",
    "   \n",
    "       \n",
    "    if age not in range(0,120):\n",
    "        print(f\"\\nSomething is not right. Try it again.\")\n",
    "        continue\n",
    "       #whit this continue If wrote a number out of the range, I can't restart from the begining.\n",
    "       # that shoud wokrs when the input be higther them 120 or less then 0\n",
    "    \n",
    "    elif age >= 0 and age <3:\n",
    "        print(f\"You are {age} years old, your ticket is free!\")\n",
    "    \n",
    "    elif age >=3 and age<=12:\n",
    "        print(f\"You are {age} years old, your ticket price is $10.\")\n",
    "    \n",
    "    else:\n",
    "        print(f\"You are {age} years old, your ticket price is $15.\")\n",
    "    \n",
    "       \n",
    "\n",
    "print(\"Fim da execução\")\n"
   ]
  },
  {
   "cell_type": "code",
   "execution_count": null,
   "metadata": {},
   "outputs": [
    {
     "name": "stdout",
     "output_type": "stream",
     "text": [
      "\n",
      "Would you like to get a ticket?\n",
      "Please write your age: one\n",
      "This option is not valid. You need to input an integer number. Try it again.\n",
      "\n",
      "Would you like to get a ticket?\n",
      "Please write your age: -130\n",
      "Wow that can't be possible!! Try it again\n",
      "\n",
      "Would you like to get a ticket?\n",
      "Please write your age: 5\n",
      "You are 5 years old, your ticket price is $10.\n",
      "\n",
      "Would you like to get a ticket?\n",
      "Please write your age: 7\n",
      "You are 7 years old, your ticket price is $10.\n",
      "\n",
      "Would you like to get a ticket?\n",
      "Please write your age: 15\n",
      "You are 15 years old, your ticket price is $15.\n",
      "\n",
      "Would you like to get a ticket?\n",
      "Please write your age: 80\n",
      "You are 80 years old, your ticket price is $7.\n"
     ]
    }
   ],
   "source": [
    "# Using except blocks\n",
    "prompt=\"\\nWould you like to get a ticket?\"\n",
    "prompt+=\"\\nPlease write your age: \"\n",
    "\n",
    "  \n",
    "while True:\n",
    "    \n",
    "\n",
    "    try:       \n",
    "        age=int(input(prompt))\n",
    "        assert age > 0             \n",
    "      \n",
    "    except ValueError:\n",
    "        print(f\"This option is not valid. You need to input an integer number. Try it again.\")\n",
    "        continue\n",
    "        \n",
    "    except AssertionError: \n",
    "        print(\"Wow that can't be possible!! Try it again\")\n",
    "        continue   \n",
    "               \n",
    "     \n",
    "                            \n",
    "    if age >= 0 and age <3:\n",
    "        print(f\"You are {age} years old, your ticket is free!\")\n",
    "       \n",
    "            \n",
    "    elif age >=3 and age<=12:\n",
    "        print(f\"You are {age} years old, your ticket price is $10.\")\n",
    "       \n",
    "            \n",
    "    elif age > 75 and age <121:        \n",
    "        print(f\"You are {age} years old, your ticket price is $7.\")\n",
    "       \n",
    "       \n",
    "    else:\n",
    "        print(f\"You are {age} years old, your ticket price is $15.\")\n",
    "        \n",
    "        \n",
    "      \n",
    "    \n",
    "print(\"Fim da execução\")\n"
   ]
  },
  {
   "cell_type": "code",
   "execution_count": 1,
   "metadata": {},
   "outputs": [
    {
     "name": "stdout",
     "output_type": "stream",
     "text": [
      "\n",
      "Would you like to get a ticket?\n",
      "Please write your age: two\n",
      "This option is not valid. You need to input an integer number. Try it again.\n",
      "\n",
      "Would you like to get a ticket?\n",
      "Please write your age: 140\n",
      "This is not right, try again\n",
      "\n",
      "Would you like to get a ticket?\n",
      "Please write your age: -5\n",
      "This is not right, try again\n",
      "\n",
      "Would you like to get a ticket?\n",
      "Please write your age: 5\n",
      "You are 5 years old, your ticket price is $10.\n",
      "Fim da execução\n"
     ]
    }
   ],
   "source": [
    "#creating a execption\n",
    "\n",
    "prompt=\"\\nWould you like to get a ticket?\"\n",
    "prompt+=\"\\nPlease write your age: \"\n",
    "\n",
    "  \n",
    "while True:\n",
    "    \n",
    "\n",
    "    try:       \n",
    "        age=int(input(prompt))\n",
    "        assert age in range (0,120)\n",
    "      \n",
    "    except ValueError:\n",
    "        print(f\"This option is not valid. You need to input an integer number. Try it again.\")\n",
    "        continue\n",
    "        \n",
    "    except:\n",
    "        if age not in range(0,120):\n",
    "            print(f\"This is not right, try again\")\n",
    "        continue\n",
    "                            \n",
    "    if age >= 0 and age <3:\n",
    "        print(f\"You are {age} years old, your ticket is free!\")\n",
    "        break\n",
    "            \n",
    "    elif age >=3 and age<=12:\n",
    "        print(f\"You are {age} years old, your ticket price is $10.\")\n",
    "        break\n",
    "            \n",
    "    elif age > 75 and age <121:        \n",
    "        print(f\"You are {age} years old, your ticket price is $7.\")\n",
    "        break\n",
    "       \n",
    "    else:\n",
    "        print(f\"You are {age} years old, your ticket price is $15.\")\n",
    "        break\n",
    "        \n",
    "      \n",
    "    \n",
    "print(\"Fim da execução\")\n"
   ]
  },
  {
   "cell_type": "markdown",
   "metadata": {},
   "source": [
    "### Using while loop with lists and Dicitionaries"
   ]
  },
  {
   "cell_type": "markdown",
   "metadata": {},
   "source": [
    "To modify a list as you work through it, use a while loop.  \n",
    "Using while loops with lists and dictionaries allows you to collect, store, and   \n",
    "organize lots of input to examine and report on later.  "
   ]
  },
  {
   "cell_type": "code",
   "execution_count": 2,
   "metadata": {},
   "outputs": [
    {
     "name": "stdout",
     "output_type": "stream",
     "text": [
      "Verifying user: Candace\n",
      "Verifying user: Brian\n",
      "Verifying user: Alice\n",
      "\n",
      "The following users have been confirmed: \n",
      "Candace\n",
      "Brian\n",
      "Alice\n"
     ]
    }
   ],
   "source": [
    "#moving items from one list to another\n",
    "#Start from a list the needs to be verified.\n",
    "#and on empty list to hold confirmed users.\n",
    "\n",
    "unconfirmed_users =['alice','brian','candace']\n",
    "confirmed_users =[]\n",
    "\n",
    "#verifiy each user until there are no more unconfirmed users.\n",
    "#move each verified user into the list confirmed_users:\n",
    "\n",
    "while unconfirmed_users:\n",
    "    current_user=unconfirmed_users.pop()\n",
    "    \n",
    "    print(f\"Verifying user: {current_user.title()}\")\n",
    "    confirmed_users.append(current_user)\n",
    "\n",
    "#Display all confirmed users\n",
    "print(\"\\nThe following users have been confirmed: \")\n",
    "for confirmed_user in confirmed_users:\n",
    "    print(confirmed_user.title())\n",
    "\n",
    "    \n",
    "    \n",
    "\n"
   ]
  },
  {
   "cell_type": "markdown",
   "metadata": {},
   "source": [
    "### Removing all instances of specify values from a list"
   ]
  },
  {
   "cell_type": "code",
   "execution_count": 3,
   "metadata": {},
   "outputs": [
    {
     "name": "stdout",
     "output_type": "stream",
     "text": [
      "['dog', 'cat', 'dog', 'goldfhish', 'cat', 'rabbit', 'cat']\n",
      "['dog', 'dog', 'goldfhish', 'rabbit']\n"
     ]
    }
   ],
   "source": [
    "pets=['dog','cat','dog','goldfhish','cat','rabbit','cat']\n",
    "print(pets)\n",
    "\n",
    "while 'cat' in pets:\n",
    "    pets.remove('cat')\n",
    "    \n",
    "print(pets)"
   ]
  },
  {
   "cell_type": "code",
   "execution_count": 4,
   "metadata": {},
   "outputs": [
    {
     "name": "stdout",
     "output_type": "stream",
     "text": [
      "['goldfhish', 'cat', 'rabbit', 'dog']\n"
     ]
    }
   ],
   "source": [
    "# We can also do that setting my list\n",
    "pets=['dog','cat','dog','goldfhish','cat','rabbit','cat']\n",
    "newpetslist=list(set(pets))\n",
    "print(newpetslist)\n",
    "#we took out all the repeted pets but we also não have the same order"
   ]
  },
  {
   "cell_type": "markdown",
   "metadata": {},
   "source": [
    "### Filling a Dictionary with User Input"
   ]
  },
  {
   "cell_type": "code",
   "execution_count": 1,
   "metadata": {},
   "outputs": [
    {
     "name": "stdout",
     "output_type": "stream",
     "text": [
      "\n",
      "What's your name? Renata\n",
      "Which mountain would you like to climb someday? Everest\n",
      "\n",
      "Would you like to let another person respond? (yes/no) yes\n",
      "\n",
      "----Poll Results----\n",
      "\n",
      "What's your name? no\n",
      "Which mountain would you like to climb someday? picodo Jaragu[a\n",
      "\n",
      "Would you like to let another person respond? (yes/no) no\n",
      "\n",
      "----Poll Results----\n",
      "Renata would like to climb Everest. \n",
      "no would like to climb picodo Jaragu[a. \n"
     ]
    }
   ],
   "source": [
    "responses={}\n",
    "\n",
    "#Set a flag to indicate that polling is active.\n",
    "polling_active = True\n",
    "\n",
    "while polling_active:\n",
    "    #Propmt for the person's name and response.\n",
    "    name = input(\"\\nWhat's your name? \")\n",
    "    response = input(\"Which mountain would you like to climb someday? \")\n",
    "    \n",
    "    #store the response in a dictionary\n",
    "    \n",
    "    responses[name]=response\n",
    "    \n",
    "    #Find out if anyone else is going take the poll.\n",
    "    repeat =input(f\"\\nWould you like to let another person respond? (yes/no) \")\n",
    "    if repeat == 'no':\n",
    "        polling_active = False\n",
    "    \n",
    "#Polling is complete show the results.\n",
    "print(f\"\\n----Poll Results----\")\n",
    "    \n",
    "for name,response in responses.items():\n",
    "    print(f\"{name} would like to climb {response}. \")"
   ]
  },
  {
   "cell_type": "markdown",
   "metadata": {},
   "source": [
    "## Try  it yourself"
   ]
  },
  {
   "cell_type": "markdown",
   "metadata": {},
   "source": [
    "__7-8. Deli__ Make a list called sandwich_orders and fill it with the names of vari-  \n",
    "ous sandwiches. Then make an empty list called finished_sandwiches. Loop  \n",
    "\n",
    "through the list of sandwich orders and print a message for each order, such  \n",
    "as I made your tuna sandwich. As each sandwich is made, move it to the list  \n",
    "of finished sandwiches. After all the sandwiches have been made, print a  \n",
    "message listing each sandwich that was made.  "
   ]
  },
  {
   "cell_type": "code",
   "execution_count": 5,
   "metadata": {},
   "outputs": [
    {
     "name": "stdout",
     "output_type": "stream",
     "text": [
      "We are making your Bacon Egg And Cheese sandwich. \n",
      "We are making your Bacon sandwich. \n",
      "We are making your American Sub sandwich. \n",
      "\n",
      "We've finished doing these sandwiches.\n",
      "Bacon Egg And Cheese\n",
      "Bacon\n",
      "American Sub\n"
     ]
    }
   ],
   "source": [
    "sandwich_orders=['american sub','bacon','bacon egg and cheese']\n",
    "finished_sandwiches =[]\n",
    "\n",
    "while sandwich_orders:\n",
    "    order = sandwich_orders.pop()\n",
    "    print(f\"We are making your {order.title()} sandwich. \")\n",
    "    finished_sandwiches.append(order)\n",
    "\n",
    "print(\"\\nWe've finished doing these sandwiches.\")\n",
    "for finished_sandwich in finished_sandwiches:\n",
    "    print(finished_sandwich.title())\n",
    "\n",
    "                 \n"
   ]
  },
  {
   "cell_type": "markdown",
   "metadata": {},
   "source": [
    "__7-9. No Pastrami:__ Using the list sandwich_orders from Exercise 7-8, make sure  \n",
    "the sandwich 'pastrami' appears in the list at least three times. Add code  \n",
    "near the beginning of your program to print a message saying the deli has  \n",
    "run out of pastrami, and then use a while loop to remove all occurrences of  \n",
    "'pastrami' from sandwich_orders. Make sure no pastrami sandwiches end up  \n",
    "in finished_sandwiches.  "
   ]
  },
  {
   "cell_type": "code",
   "execution_count": 6,
   "metadata": {},
   "outputs": [
    {
     "name": "stdout",
     "output_type": "stream",
     "text": [
      "We still having Pastrami in our list\n",
      "We still having Pastrami in our list\n",
      "We still having Pastrami in our list\n",
      "The pastrmi sandwich finished\n",
      "['american sub', 'bacon', 'bacon egg and cheese']\n"
     ]
    }
   ],
   "source": [
    "sandwich_orders=['american sub','pastrami','bacon','pastrami','bacon egg and cheese','pastrami']\n",
    "\n",
    "while 'pastrami' in sandwich_orders:\n",
    "    sandwich_orders.remove('pastrami')\n",
    "    print(\"We still having Pastrami in our list\")\n",
    "print(\"The pastrmi sandwich finished\")    \n",
    "print(sandwich_orders)\n",
    "\n",
    "    "
   ]
  },
  {
   "cell_type": "raw",
   "metadata": {},
   "source": [
    "__7-10. Dream Vacation:__ Write a program that polls users about their dream vaca-  \n",
    "tion. Write a prompt similar to If you could visit one place in the world, where  \n",
    "\n",
    "would you go? Include a block of code that prints the results of the poll.  "
   ]
  },
  {
   "cell_type": "code",
   "execution_count": 4,
   "metadata": {},
   "outputs": [
    {
     "name": "stdout",
     "output_type": "stream",
     "text": [
      "What's your name? Renata\n",
      "Wich place, in the world, do you like to visit? Canadá\n",
      "Would you like to let another person poll? (yes/no) Yes\n",
      "What's your name? Guilherme\n",
      "Wich place, in the world, do you like to visit? América\n",
      "Would you like to let another person poll? (yes/no) no\n",
      "\n",
      "*****Polling Results*****\n",
      "Renata would like to go to Canadá. \n",
      "Guilherme would like to go to América. \n"
     ]
    }
   ],
   "source": [
    "polling_active = True\n",
    "polling_answers ={}\n",
    "\n",
    "\n",
    "\n",
    "while polling_active:\n",
    "    \n",
    "    who = input(\"What's your name? \")\n",
    "    place = input(\"Wich place, in the world, do you like to visit? \")    \n",
    "    \n",
    "    polling_answers[who]=place\n",
    "    \n",
    "    poll_active = input(\"Would you like to let another person poll? (yes/no) \")\n",
    "    if poll_active.casefold() == 'no':\n",
    "        polling_active = False\n",
    "\n",
    "print(\"\\n*****Polling Results*****\")        \n",
    "for who, place in polling_answers.items():\n",
    "    print(f\"{who.title()} would like to go to {place.title()}. \")\n",
    "        \n",
    "        \n",
    "\n",
    "\n"
   ]
  },
  {
   "cell_type": "code",
   "execution_count": null,
   "metadata": {},
   "outputs": [],
   "source": []
  }
 ],
 "metadata": {
  "kernelspec": {
   "display_name": "Python 3",
   "language": "python",
   "name": "python3"
  },
  "language_info": {
   "codemirror_mode": {
    "name": "ipython",
    "version": 3
   },
   "file_extension": ".py",
   "mimetype": "text/x-python",
   "name": "python",
   "nbconvert_exporter": "python",
   "pygments_lexer": "ipython3",
   "version": "3.7.6"
  }
 },
 "nbformat": 4,
 "nbformat_minor": 4
}
